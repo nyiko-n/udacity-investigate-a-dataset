{
 "cells": [
  {
   "cell_type": "markdown",
   "metadata": {},
   "source": [
    "# Investigating Medical Appointment No Shows in Brazil\n",
    "\n",
    "## Table of Contents\n",
    "<ul>\n",
    "<li><a href=\"#intro\">Introduction</a></li>\n",
    "<li><a href=\"#wrangling\">Data Wrangling</a></li>\n",
    "<li><a href=\"#eda\">Exploratory Data Analysis</a></li>\n",
    "<li><a href=\"#conclusions\">Conclusions</a></li>\n",
    "</ul>"
   ]
  },
  {
   "cell_type": "markdown",
   "metadata": {},
   "source": [
    "<a id='intro'></a>\n",
    "# Introduction\n",
    "\n",
    "\n",
    "This research report will try to determine the factors that may influence a patient's decision to show up for a medical appointment or not (dependant variable). The dataset we will be using to perform the investigation consists of 110,527 medical appointments scheduled at various medical centres in Brazil between 10 November 2015 and 08 June 2016. The appointment dates spanned less than two months from 29 April 2016 to 08 June 2016. We will investgate whether certain characteristics (independant variables) captured in the data can predict if a patient will show up.\n",
    "\n",
    "There are 14 columns in total that categorise a number of factors. They are summarised below:\n",
    "\n",
    "        01 PatientId: Unique patient identifier\n",
    "\n",
    "        02 AppointmentID: Unique code for each appointment\n",
    "\n",
    "        03 Gender: Lists whether a patient is male (M) or female (F)\n",
    "\n",
    "        04 ScheduledDay: The date that an appointment is made\n",
    "\n",
    "        05 AppointmentDay: The date the patient is expected to show up for an appointment\n",
    "\n",
    "        06 Age: Age of each patient\n",
    "\n",
    "        7 Neighbourhood: The area where the appointment takes place\n",
    "\n",
    "        8 Scholarship: Indicates whether a patient is enrolled in the Brazilian welfare program or not\n",
    "\n",
    "        9 Hipertension: Indicates whether a patient suffers from hypertension or not\n",
    "\n",
    "        10 Diabetes: Indicates whether a patient suffers from diabetes or not\n",
    "\n",
    "        11 Alcoholism: Indicates whether a patient suffers from alcoholism or not\n",
    "\n",
    "        12 Handcap: The number of handicaps a patient has\n",
    "\n",
    "        13 SMS_received: Indicates whether a patient received an SMS or not\n",
    "\n",
    "        14 No-show: Indicates whether a patient showed up for the appointment or not. 'No' means that a patient did show up, while 'Yes' means that a patient did not show up\n",
    "\n",
    "    \n",
    "The analysis will be limited to investigating the following variables and their effect on the 'No-show' variable:\n",
    "\n",
    "        - The gender of a patient\n",
    "\n",
    "        - The number of days between the scheduling of an appointment and the actual appointment (AppointmentDay - ScheduledDay)\n",
    "\n",
    "        - The number ailments (Hypertension + Diabetes + Alcoholism + Handicap)\n",
    "\n",
    "\n",
    "The analysis will seek to answer the following questions:\n",
    "\n",
    "        1. Which gender is more likely to miss an appointment?\n",
    "\n",
    "        2. Does the number of days from when a patient schedules an appointment to the actual appointmnet date affect whether s/he shows up?\n",
    "        \n",
    "        3. How does the total number of ailments affect a patients decision to miss an appointment"
   ]
  },
  {
   "cell_type": "code",
   "execution_count": 169,
   "metadata": {
    "collapsed": true
   },
   "outputs": [],
   "source": [
    "# import packages to be used in analysis\n",
    "import pandas as pd\n",
    "import numpy as np\n",
    "import matplotlib.pyplot as plt\n",
    "import datetime as dt\n",
    "%matplotlib inline"
   ]
  },
  {
   "cell_type": "markdown",
   "metadata": {},
   "source": [
    "<a id='wrangling'></a>\n",
    "# Data Wrangling\n",
    "\n",
    "In this section of the report, data will be loaded, checked for cleanliness, and then trimed and cleaned to be prepared for analysis.\n",
    "\n",
    "### General Properties"
   ]
  },
  {
   "cell_type": "code",
   "execution_count": 170,
   "metadata": {},
   "outputs": [
    {
     "data": {
      "text/html": [
       "<div>\n",
       "<style scoped>\n",
       "    .dataframe tbody tr th:only-of-type {\n",
       "        vertical-align: middle;\n",
       "    }\n",
       "\n",
       "    .dataframe tbody tr th {\n",
       "        vertical-align: top;\n",
       "    }\n",
       "\n",
       "    .dataframe thead th {\n",
       "        text-align: right;\n",
       "    }\n",
       "</style>\n",
       "<table border=\"1\" class=\"dataframe\">\n",
       "  <thead>\n",
       "    <tr style=\"text-align: right;\">\n",
       "      <th></th>\n",
       "      <th>PatientId</th>\n",
       "      <th>AppointmentID</th>\n",
       "      <th>Gender</th>\n",
       "      <th>ScheduledDay</th>\n",
       "      <th>AppointmentDay</th>\n",
       "      <th>Age</th>\n",
       "      <th>Neighbourhood</th>\n",
       "      <th>Scholarship</th>\n",
       "      <th>Hipertension</th>\n",
       "      <th>Diabetes</th>\n",
       "      <th>Alcoholism</th>\n",
       "      <th>Handcap</th>\n",
       "      <th>SMS_received</th>\n",
       "      <th>No-show</th>\n",
       "    </tr>\n",
       "  </thead>\n",
       "  <tbody>\n",
       "    <tr>\n",
       "      <th>0</th>\n",
       "      <td>2.987250e+13</td>\n",
       "      <td>5642903</td>\n",
       "      <td>F</td>\n",
       "      <td>2016-04-29T18:38:08Z</td>\n",
       "      <td>2016-04-29T00:00:00Z</td>\n",
       "      <td>62</td>\n",
       "      <td>JARDIM DA PENHA</td>\n",
       "      <td>0</td>\n",
       "      <td>1</td>\n",
       "      <td>0</td>\n",
       "      <td>0</td>\n",
       "      <td>0</td>\n",
       "      <td>0</td>\n",
       "      <td>No</td>\n",
       "    </tr>\n",
       "    <tr>\n",
       "      <th>1</th>\n",
       "      <td>5.589978e+14</td>\n",
       "      <td>5642503</td>\n",
       "      <td>M</td>\n",
       "      <td>2016-04-29T16:08:27Z</td>\n",
       "      <td>2016-04-29T00:00:00Z</td>\n",
       "      <td>56</td>\n",
       "      <td>JARDIM DA PENHA</td>\n",
       "      <td>0</td>\n",
       "      <td>0</td>\n",
       "      <td>0</td>\n",
       "      <td>0</td>\n",
       "      <td>0</td>\n",
       "      <td>0</td>\n",
       "      <td>No</td>\n",
       "    </tr>\n",
       "    <tr>\n",
       "      <th>2</th>\n",
       "      <td>4.262962e+12</td>\n",
       "      <td>5642549</td>\n",
       "      <td>F</td>\n",
       "      <td>2016-04-29T16:19:04Z</td>\n",
       "      <td>2016-04-29T00:00:00Z</td>\n",
       "      <td>62</td>\n",
       "      <td>MATA DA PRAIA</td>\n",
       "      <td>0</td>\n",
       "      <td>0</td>\n",
       "      <td>0</td>\n",
       "      <td>0</td>\n",
       "      <td>0</td>\n",
       "      <td>0</td>\n",
       "      <td>No</td>\n",
       "    </tr>\n",
       "    <tr>\n",
       "      <th>3</th>\n",
       "      <td>8.679512e+11</td>\n",
       "      <td>5642828</td>\n",
       "      <td>F</td>\n",
       "      <td>2016-04-29T17:29:31Z</td>\n",
       "      <td>2016-04-29T00:00:00Z</td>\n",
       "      <td>8</td>\n",
       "      <td>PONTAL DE CAMBURI</td>\n",
       "      <td>0</td>\n",
       "      <td>0</td>\n",
       "      <td>0</td>\n",
       "      <td>0</td>\n",
       "      <td>0</td>\n",
       "      <td>0</td>\n",
       "      <td>No</td>\n",
       "    </tr>\n",
       "    <tr>\n",
       "      <th>4</th>\n",
       "      <td>8.841186e+12</td>\n",
       "      <td>5642494</td>\n",
       "      <td>F</td>\n",
       "      <td>2016-04-29T16:07:23Z</td>\n",
       "      <td>2016-04-29T00:00:00Z</td>\n",
       "      <td>56</td>\n",
       "      <td>JARDIM DA PENHA</td>\n",
       "      <td>0</td>\n",
       "      <td>1</td>\n",
       "      <td>1</td>\n",
       "      <td>0</td>\n",
       "      <td>0</td>\n",
       "      <td>0</td>\n",
       "      <td>No</td>\n",
       "    </tr>\n",
       "  </tbody>\n",
       "</table>\n",
       "</div>"
      ],
      "text/plain": [
       "      PatientId  AppointmentID Gender          ScheduledDay  \\\n",
       "0  2.987250e+13        5642903      F  2016-04-29T18:38:08Z   \n",
       "1  5.589978e+14        5642503      M  2016-04-29T16:08:27Z   \n",
       "2  4.262962e+12        5642549      F  2016-04-29T16:19:04Z   \n",
       "3  8.679512e+11        5642828      F  2016-04-29T17:29:31Z   \n",
       "4  8.841186e+12        5642494      F  2016-04-29T16:07:23Z   \n",
       "\n",
       "         AppointmentDay  Age      Neighbourhood  Scholarship  Hipertension  \\\n",
       "0  2016-04-29T00:00:00Z   62    JARDIM DA PENHA            0             1   \n",
       "1  2016-04-29T00:00:00Z   56    JARDIM DA PENHA            0             0   \n",
       "2  2016-04-29T00:00:00Z   62      MATA DA PRAIA            0             0   \n",
       "3  2016-04-29T00:00:00Z    8  PONTAL DE CAMBURI            0             0   \n",
       "4  2016-04-29T00:00:00Z   56    JARDIM DA PENHA            0             1   \n",
       "\n",
       "   Diabetes  Alcoholism  Handcap  SMS_received No-show  \n",
       "0         0           0        0             0      No  \n",
       "1         0           0        0             0      No  \n",
       "2         0           0        0             0      No  \n",
       "3         0           0        0             0      No  \n",
       "4         1           0        0             0      No  "
      ]
     },
     "execution_count": 170,
     "metadata": {},
     "output_type": "execute_result"
    }
   ],
   "source": [
    "# load dataset and inspect data\n",
    "# the csv file has been renamed for ease of use\n",
    "\n",
    "df = pd.read_csv('no_shows.csv')\n",
    "df.head(5)"
   ]
  },
  {
   "cell_type": "markdown",
   "metadata": {},
   "source": [
    "Upon initial inspection of the data, I have decided to drop the \"PatientId\" and \"AppointmentID\" as I believe they will not be relavant for the rest of this analysis.\n",
    "\n",
    "I will rename the columns so that they are all lowercase to make it easier to be consistent with the rest of the code. I will also replace the \"-\" in \"No-show\" to an underscore (\"_\").\n",
    "\n",
    "\"Hipertension\" and \"Handcap\" to be renamed to the correct English spellings."
   ]
  },
  {
   "cell_type": "code",
   "execution_count": 171,
   "metadata": {},
   "outputs": [
    {
     "data": {
      "text/plain": [
       "(110527, 14)"
      ]
     },
     "execution_count": 171,
     "metadata": {},
     "output_type": "execute_result"
    }
   ],
   "source": [
    "# find the dimesions of the dataframe\n",
    "df.shape"
   ]
  },
  {
   "cell_type": "markdown",
   "metadata": {},
   "source": [
    "There are currently 110,527 rows and 14 columns present in the data."
   ]
  },
  {
   "cell_type": "code",
   "execution_count": 172,
   "metadata": {},
   "outputs": [
    {
     "data": {
      "image/png": "[encoded data removed]",
      "text/plain": [
       "<Figure size 1296x864 with 9 Axes>"
      ]
     },
     "metadata": {
      "needs_background": "light"
     },
     "output_type": "display_data"
    }
   ],
   "source": [
    "# Show a distribution of the data\n",
    "df.hist(figsize =(18,12));"
   ]
  },
  {
   "cell_type": "code",
   "execution_count": 173,
   "metadata": {},
   "outputs": [
    {
     "data": {
      "text/html": [
       "<div>\n",
       "<style scoped>\n",
       "    .dataframe tbody tr th:only-of-type {\n",
       "        vertical-align: middle;\n",
       "    }\n",
       "\n",
       "    .dataframe tbody tr th {\n",
       "        vertical-align: top;\n",
       "    }\n",
       "\n",
       "    .dataframe thead th {\n",
       "        text-align: right;\n",
       "    }\n",
       "</style>\n",
       "<table border=\"1\" class=\"dataframe\">\n",
       "  <thead>\n",
       "    <tr style=\"text-align: right;\">\n",
       "      <th></th>\n",
       "      <th>PatientId</th>\n",
       "      <th>AppointmentID</th>\n",
       "      <th>Age</th>\n",
       "      <th>Scholarship</th>\n",
       "      <th>Hipertension</th>\n",
       "      <th>Diabetes</th>\n",
       "      <th>Alcoholism</th>\n",
       "      <th>Handcap</th>\n",
       "      <th>SMS_received</th>\n",
       "    </tr>\n",
       "  </thead>\n",
       "  <tbody>\n",
       "    <tr>\n",
       "      <th>count</th>\n",
       "      <td>1.105270e+05</td>\n",
       "      <td>1.105270e+05</td>\n",
       "      <td>110527.000000</td>\n",
       "      <td>110527.000000</td>\n",
       "      <td>110527.000000</td>\n",
       "      <td>110527.000000</td>\n",
       "      <td>110527.000000</td>\n",
       "      <td>110527.000000</td>\n",
       "      <td>110527.000000</td>\n",
       "    </tr>\n",
       "    <tr>\n",
       "      <th>mean</th>\n",
       "      <td>1.474963e+14</td>\n",
       "      <td>5.675305e+06</td>\n",
       "      <td>37.088874</td>\n",
       "      <td>0.098266</td>\n",
       "      <td>0.197246</td>\n",
       "      <td>0.071865</td>\n",
       "      <td>0.030400</td>\n",
       "      <td>0.022248</td>\n",
       "      <td>0.321026</td>\n",
       "    </tr>\n",
       "    <tr>\n",
       "      <th>std</th>\n",
       "      <td>2.560949e+14</td>\n",
       "      <td>7.129575e+04</td>\n",
       "      <td>23.110205</td>\n",
       "      <td>0.297675</td>\n",
       "      <td>0.397921</td>\n",
       "      <td>0.258265</td>\n",
       "      <td>0.171686</td>\n",
       "      <td>0.161543</td>\n",
       "      <td>0.466873</td>\n",
       "    </tr>\n",
       "    <tr>\n",
       "      <th>min</th>\n",
       "      <td>3.921784e+04</td>\n",
       "      <td>5.030230e+06</td>\n",
       "      <td>-1.000000</td>\n",
       "      <td>0.000000</td>\n",
       "      <td>0.000000</td>\n",
       "      <td>0.000000</td>\n",
       "      <td>0.000000</td>\n",
       "      <td>0.000000</td>\n",
       "      <td>0.000000</td>\n",
       "    </tr>\n",
       "    <tr>\n",
       "      <th>25%</th>\n",
       "      <td>4.172614e+12</td>\n",
       "      <td>5.640286e+06</td>\n",
       "      <td>18.000000</td>\n",
       "      <td>0.000000</td>\n",
       "      <td>0.000000</td>\n",
       "      <td>0.000000</td>\n",
       "      <td>0.000000</td>\n",
       "      <td>0.000000</td>\n",
       "      <td>0.000000</td>\n",
       "    </tr>\n",
       "    <tr>\n",
       "      <th>50%</th>\n",
       "      <td>3.173184e+13</td>\n",
       "      <td>5.680573e+06</td>\n",
       "      <td>37.000000</td>\n",
       "      <td>0.000000</td>\n",
       "      <td>0.000000</td>\n",
       "      <td>0.000000</td>\n",
       "      <td>0.000000</td>\n",
       "      <td>0.000000</td>\n",
       "      <td>0.000000</td>\n",
       "    </tr>\n",
       "    <tr>\n",
       "      <th>75%</th>\n",
       "      <td>9.439172e+13</td>\n",
       "      <td>5.725524e+06</td>\n",
       "      <td>55.000000</td>\n",
       "      <td>0.000000</td>\n",
       "      <td>0.000000</td>\n",
       "      <td>0.000000</td>\n",
       "      <td>0.000000</td>\n",
       "      <td>0.000000</td>\n",
       "      <td>1.000000</td>\n",
       "    </tr>\n",
       "    <tr>\n",
       "      <th>max</th>\n",
       "      <td>9.999816e+14</td>\n",
       "      <td>5.790484e+06</td>\n",
       "      <td>115.000000</td>\n",
       "      <td>1.000000</td>\n",
       "      <td>1.000000</td>\n",
       "      <td>1.000000</td>\n",
       "      <td>1.000000</td>\n",
       "      <td>4.000000</td>\n",
       "      <td>1.000000</td>\n",
       "    </tr>\n",
       "  </tbody>\n",
       "</table>\n",
       "</div>"
      ],
      "text/plain": [
       "          PatientId  AppointmentID            Age    Scholarship  \\\n",
       "count  1.105270e+05   1.105270e+05  110527.000000  110527.000000   \n",
       "mean   1.474963e+14   5.675305e+06      37.088874       0.098266   \n",
       "std    2.560949e+14   7.129575e+04      23.110205       0.297675   \n",
       "min    3.921784e+04   5.030230e+06      -1.000000       0.000000   \n",
       "25%    4.172614e+12   5.640286e+06      18.000000       0.000000   \n",
       "50%    3.173184e+13   5.680573e+06      37.000000       0.000000   \n",
       "75%    9.439172e+13   5.725524e+06      55.000000       0.000000   \n",
       "max    9.999816e+14   5.790484e+06     115.000000       1.000000   \n",
       "\n",
       "        Hipertension       Diabetes     Alcoholism        Handcap  \\\n",
       "count  110527.000000  110527.000000  110527.000000  110527.000000   \n",
       "mean        0.197246       0.071865       0.030400       0.022248   \n",
       "std         0.397921       0.258265       0.171686       0.161543   \n",
       "min         0.000000       0.000000       0.000000       0.000000   \n",
       "25%         0.000000       0.000000       0.000000       0.000000   \n",
       "50%         0.000000       0.000000       0.000000       0.000000   \n",
       "75%         0.000000       0.000000       0.000000       0.000000   \n",
       "max         1.000000       1.000000       1.000000       4.000000   \n",
       "\n",
       "        SMS_received  \n",
       "count  110527.000000  \n",
       "mean        0.321026  \n",
       "std         0.466873  \n",
       "min         0.000000  \n",
       "25%         0.000000  \n",
       "50%         0.000000  \n",
       "75%         1.000000  \n",
       "max         1.000000  "
      ]
     },
     "execution_count": 173,
     "metadata": {},
     "output_type": "execute_result"
    }
   ],
   "source": [
    "# get summary statistics of the data\n",
    "df.describe()"
   ]
  },
  {
   "cell_type": "markdown",
   "metadata": {},
   "source": [
    "#### Key findings\n",
    "\n",
    "The minimum value of -1 in the 'Age' column of appears to be an error as you cannot have a negative age. We could theorise that the data is referring to an unborn child. However, if that was true, it ia more likely that the the mother of an unborn child would be the patient. I will investigate the frequency of the negative ages to determine if is significant and deal with it accordingly.\n",
    "\n",
    "\n",
    "Almost 10% of patients have scholarships\n",
    "\n",
    "Almost 20% of patients suffer from hypertension\n",
    "\n",
    "7% have diabetes\n",
    "\n",
    "3% alcoholism\n",
    "\n",
    "2% handicaped"
   ]
  },
  {
   "cell_type": "code",
   "execution_count": 174,
   "metadata": {},
   "outputs": [
    {
     "data": {
      "text/html": [
       "<div>\n",
       "<style scoped>\n",
       "    .dataframe tbody tr th:only-of-type {\n",
       "        vertical-align: middle;\n",
       "    }\n",
       "\n",
       "    .dataframe tbody tr th {\n",
       "        vertical-align: top;\n",
       "    }\n",
       "\n",
       "    .dataframe thead th {\n",
       "        text-align: right;\n",
       "    }\n",
       "</style>\n",
       "<table border=\"1\" class=\"dataframe\">\n",
       "  <thead>\n",
       "    <tr style=\"text-align: right;\">\n",
       "      <th></th>\n",
       "      <th>PatientId</th>\n",
       "      <th>AppointmentID</th>\n",
       "      <th>Gender</th>\n",
       "      <th>ScheduledDay</th>\n",
       "      <th>AppointmentDay</th>\n",
       "      <th>Age</th>\n",
       "      <th>Neighbourhood</th>\n",
       "      <th>Scholarship</th>\n",
       "      <th>Hipertension</th>\n",
       "      <th>Diabetes</th>\n",
       "      <th>Alcoholism</th>\n",
       "      <th>Handcap</th>\n",
       "      <th>SMS_received</th>\n",
       "      <th>No-show</th>\n",
       "    </tr>\n",
       "  </thead>\n",
       "  <tbody>\n",
       "    <tr>\n",
       "      <th>99832</th>\n",
       "      <td>4.659432e+14</td>\n",
       "      <td>5775010</td>\n",
       "      <td>F</td>\n",
       "      <td>2016-06-06T08:58:13Z</td>\n",
       "      <td>2016-06-06T00:00:00Z</td>\n",
       "      <td>-1</td>\n",
       "      <td>ROMÃO</td>\n",
       "      <td>0</td>\n",
       "      <td>0</td>\n",
       "      <td>0</td>\n",
       "      <td>0</td>\n",
       "      <td>0</td>\n",
       "      <td>0</td>\n",
       "      <td>No</td>\n",
       "    </tr>\n",
       "  </tbody>\n",
       "</table>\n",
       "</div>"
      ],
      "text/plain": [
       "          PatientId  AppointmentID Gender          ScheduledDay  \\\n",
       "99832  4.659432e+14        5775010      F  2016-06-06T08:58:13Z   \n",
       "\n",
       "             AppointmentDay  Age Neighbourhood  Scholarship  Hipertension  \\\n",
       "99832  2016-06-06T00:00:00Z   -1         ROMÃO            0             0   \n",
       "\n",
       "       Diabetes  Alcoholism  Handcap  SMS_received No-show  \n",
       "99832         0           0        0             0      No  "
      ]
     },
     "execution_count": 174,
     "metadata": {},
     "output_type": "execute_result"
    }
   ],
   "source": [
    "# check how many rows have an age less than 0\n",
    "df.query('Age <0')"
   ]
  },
  {
   "cell_type": "markdown",
   "metadata": {},
   "source": [
    "Row 99832 is only entry with a negative age.\n",
    "\n",
    "It appears to be an error as a person's age cannot be negative. I can comfortably drop this row as it makes up an insignifant part of the dataset."
   ]
  },
  {
   "cell_type": "code",
   "execution_count": 175,
   "metadata": {},
   "outputs": [
    {
     "name": "stdout",
     "output_type": "stream",
     "text": [
      "<class 'pandas.core.frame.DataFrame'>\n",
      "RangeIndex: 110527 entries, 0 to 110526\n",
      "Data columns (total 14 columns):\n",
      " #   Column          Non-Null Count   Dtype  \n",
      "---  ------          --------------   -----  \n",
      " 0   PatientId       110527 non-null  float64\n",
      " 1   AppointmentID   110527 non-null  int64  \n",
      " 2   Gender          110527 non-null  object \n",
      " 3   ScheduledDay    110527 non-null  object \n",
      " 4   AppointmentDay  110527 non-null  object \n",
      " 5   Age             110527 non-null  int64  \n",
      " 6   Neighbourhood   110527 non-null  object \n",
      " 7   Scholarship     110527 non-null  int64  \n",
      " 8   Hipertension    110527 non-null  int64  \n",
      " 9   Diabetes        110527 non-null  int64  \n",
      " 10  Alcoholism      110527 non-null  int64  \n",
      " 11  Handcap         110527 non-null  int64  \n",
      " 12  SMS_received    110527 non-null  int64  \n",
      " 13  No-show         110527 non-null  object \n",
      "dtypes: float64(1), int64(8), object(5)\n",
      "memory usage: 11.8+ MB\n"
     ]
    }
   ],
   "source": [
    "# get information about the data\n",
    "\n",
    "df.info()"
   ]
  },
  {
   "cell_type": "markdown",
   "metadata": {},
   "source": [
    "1. The number of rows seems is consistent for all the columns, There does not appear to be any null values present in the data.\n",
    "\n",
    "2. \"ScheduledDay\" and \"AppointmentDay\" are stored as strings. They should converted to datetime objects.\n",
    "\n",
    "3. [Scholarship, Hipertension, Diabetes, Alcoholism, Handcap, SMS_received] appear to binary entries. I will verify how many unique values are present.\n"
   ]
  },
  {
   "cell_type": "code",
   "execution_count": 176,
   "metadata": {},
   "outputs": [
    {
     "data": {
      "text/plain": [
       "PatientId         0\n",
       "AppointmentID     0\n",
       "Gender            0\n",
       "ScheduledDay      0\n",
       "AppointmentDay    0\n",
       "Age               0\n",
       "Neighbourhood     0\n",
       "Scholarship       0\n",
       "Hipertension      0\n",
       "Diabetes          0\n",
       "Alcoholism        0\n",
       "Handcap           0\n",
       "SMS_received      0\n",
       "No-show           0\n",
       "dtype: int64"
      ]
     },
     "execution_count": 176,
     "metadata": {},
     "output_type": "execute_result"
    }
   ],
   "source": [
    "# 1. confirm that there are no null values present in the data\n",
    "\n",
    "df.isnull().sum()"
   ]
  },
  {
   "cell_type": "markdown",
   "metadata": {},
   "source": [
    "There are no null values present in the data."
   ]
  },
  {
   "cell_type": "code",
   "execution_count": 177,
   "metadata": {},
   "outputs": [
    {
     "name": "stdout",
     "output_type": "stream",
     "text": [
      "0    2016-04-29T18:38:08Z\n",
      "1    2016-04-29T16:08:27Z\n",
      "2    2016-04-29T16:19:04Z\n",
      "Name: ScheduledDay, dtype: object\n",
      "0    2016-04-29T00:00:00Z\n",
      "1    2016-04-29T00:00:00Z\n",
      "2    2016-04-29T00:00:00Z\n",
      "Name: AppointmentDay, dtype: object\n"
     ]
    }
   ],
   "source": [
    "# 2. inspect \"ScheduledDay\" and \"AppointmentDay\" to confirm that converting to a datetime object would be more applicable\n",
    "\n",
    "print(df['ScheduledDay'].head(3))\n",
    "print(df['AppointmentDay'].head(3))"
   ]
  },
  {
   "cell_type": "markdown",
   "metadata": {},
   "source": [
    "\"ScheduledDay\" and \"AppointmentDay\" have been successfully converted to datetime objects."
   ]
  },
  {
   "cell_type": "code",
   "execution_count": 178,
   "metadata": {},
   "outputs": [
    {
     "name": "stdout",
     "output_type": "stream",
     "text": [
      "Scholarship - [0 1]\n",
      "Hipertension - [1 0]\n",
      "Diabetes - [0 1]\n",
      "Alcoholism - [0 1]\n",
      "Handcap - [0 1 2 3 4]\n",
      "SMS_received - [0 1]\n",
      "No-show - ['No' 'Yes']\n"
     ]
    }
   ],
   "source": [
    "# 3. Check for unique values [Scholarship, Hipertension, Diabetes, Alcoholism, Handcap, SMS_received] \n",
    "\n",
    "columns = ['Scholarship', 'Hipertension','Diabetes','Alcoholism', 'Handcap', 'SMS_received','No-show']\n",
    "for c in columns:\n",
    "    print(c,\"-\",df[c].unique())\n",
    "    "
   ]
  },
  {
   "cell_type": "markdown",
   "metadata": {},
   "source": [
    "We  can confirm that [Scholarship, Hipertension, Diabetes, Alcoholism, SMS_received] only have two unique values (0 and 1) so we can confirm that they are binary entries.\n",
    "\n",
    "\n",
    "Handcap has five unique values and upon further research I have found that the creater of the dataset confirmed that \"Handcap\" refers to the number of disabilities applicable to each patient. For example if a person is blind and deaf, the number 2 would be recorded.\n",
    "\n",
    "Source: https://www.kaggle.com/datasets/joniarroba/noshowappointments/discussion/29699?search=handcap"
   ]
  },
  {
   "cell_type": "code",
   "execution_count": 179,
   "metadata": {},
   "outputs": [
    {
     "data": {
      "text/plain": [
       "0"
      ]
     },
     "execution_count": 179,
     "metadata": {},
     "output_type": "execute_result"
    }
   ],
   "source": [
    "#check data for duplicate entries\n",
    "\n",
    "df.duplicated().sum()"
   ]
  },
  {
   "cell_type": "markdown",
   "metadata": {},
   "source": [
    "There are no dupliacted rows."
   ]
  },
  {
   "cell_type": "markdown",
   "metadata": {},
   "source": [
    "### Data Cleaning (Replace this with more specific notes!)"
   ]
  },
  {
   "cell_type": "code",
   "execution_count": 180,
   "metadata": {
    "collapsed": true
   },
   "outputs": [],
   "source": [
    "# make a copy of the data which will then be cleaned and further analysed\n",
    "df_clean = df"
   ]
  },
  {
   "cell_type": "code",
   "execution_count": 181,
   "metadata": {},
   "outputs": [
    {
     "data": {
      "text/html": [
       "<div>\n",
       "<style scoped>\n",
       "    .dataframe tbody tr th:only-of-type {\n",
       "        vertical-align: middle;\n",
       "    }\n",
       "\n",
       "    .dataframe tbody tr th {\n",
       "        vertical-align: top;\n",
       "    }\n",
       "\n",
       "    .dataframe thead th {\n",
       "        text-align: right;\n",
       "    }\n",
       "</style>\n",
       "<table border=\"1\" class=\"dataframe\">\n",
       "  <thead>\n",
       "    <tr style=\"text-align: right;\">\n",
       "      <th></th>\n",
       "      <th>Gender</th>\n",
       "      <th>ScheduledDay</th>\n",
       "      <th>AppointmentDay</th>\n",
       "      <th>Age</th>\n",
       "      <th>Scholarship</th>\n",
       "      <th>Hipertension</th>\n",
       "      <th>Diabetes</th>\n",
       "      <th>Alcoholism</th>\n",
       "      <th>Handcap</th>\n",
       "      <th>SMS_received</th>\n",
       "      <th>No-show</th>\n",
       "    </tr>\n",
       "  </thead>\n",
       "  <tbody>\n",
       "    <tr>\n",
       "      <th>0</th>\n",
       "      <td>F</td>\n",
       "      <td>2016-04-29T18:38:08Z</td>\n",
       "      <td>2016-04-29T00:00:00Z</td>\n",
       "      <td>62</td>\n",
       "      <td>0</td>\n",
       "      <td>1</td>\n",
       "      <td>0</td>\n",
       "      <td>0</td>\n",
       "      <td>0</td>\n",
       "      <td>0</td>\n",
       "      <td>No</td>\n",
       "    </tr>\n",
       "  </tbody>\n",
       "</table>\n",
       "</div>"
      ],
      "text/plain": [
       "  Gender          ScheduledDay        AppointmentDay  Age  Scholarship  \\\n",
       "0      F  2016-04-29T18:38:08Z  2016-04-29T00:00:00Z   62            0   \n",
       "\n",
       "   Hipertension  Diabetes  Alcoholism  Handcap  SMS_received No-show  \n",
       "0             1         0           0        0             0      No  "
      ]
     },
     "execution_count": 181,
     "metadata": {},
     "output_type": "execute_result"
    }
   ],
   "source": [
    "# drop PatientId and AppointmentID from the data\n",
    "df_clean.drop(['PatientId','AppointmentID', 'Neighbourhood'], axis =1, inplace = True)\n",
    "df_clean.head(1)"
   ]
  },
  {
   "cell_type": "markdown",
   "metadata": {},
   "source": [
    "PatientId and AppointmentID were dropped from the data as they will not be relevant to answering the research questions."
   ]
  },
  {
   "cell_type": "code",
   "execution_count": 182,
   "metadata": {},
   "outputs": [
    {
     "data": {
      "text/html": [
       "<div>\n",
       "<style scoped>\n",
       "    .dataframe tbody tr th:only-of-type {\n",
       "        vertical-align: middle;\n",
       "    }\n",
       "\n",
       "    .dataframe tbody tr th {\n",
       "        vertical-align: top;\n",
       "    }\n",
       "\n",
       "    .dataframe thead th {\n",
       "        text-align: right;\n",
       "    }\n",
       "</style>\n",
       "<table border=\"1\" class=\"dataframe\">\n",
       "  <thead>\n",
       "    <tr style=\"text-align: right;\">\n",
       "      <th></th>\n",
       "      <th>gender</th>\n",
       "      <th>scheduled_day</th>\n",
       "      <th>appointment_day</th>\n",
       "      <th>age</th>\n",
       "      <th>scholarship</th>\n",
       "      <th>hypertension</th>\n",
       "      <th>diabetes</th>\n",
       "      <th>alcoholism</th>\n",
       "      <th>handicap</th>\n",
       "      <th>sms_received</th>\n",
       "      <th>no_show</th>\n",
       "    </tr>\n",
       "  </thead>\n",
       "  <tbody>\n",
       "    <tr>\n",
       "      <th>0</th>\n",
       "      <td>F</td>\n",
       "      <td>2016-04-29T18:38:08Z</td>\n",
       "      <td>2016-04-29T00:00:00Z</td>\n",
       "      <td>62</td>\n",
       "      <td>0</td>\n",
       "      <td>1</td>\n",
       "      <td>0</td>\n",
       "      <td>0</td>\n",
       "      <td>0</td>\n",
       "      <td>0</td>\n",
       "      <td>No</td>\n",
       "    </tr>\n",
       "  </tbody>\n",
       "</table>\n",
       "</div>"
      ],
      "text/plain": [
       "  gender         scheduled_day       appointment_day  age  scholarship  \\\n",
       "0      F  2016-04-29T18:38:08Z  2016-04-29T00:00:00Z   62            0   \n",
       "\n",
       "   hypertension  diabetes  alcoholism  handicap  sms_received no_show  \n",
       "0             1         0           0         0             0      No  "
      ]
     },
     "execution_count": 182,
     "metadata": {},
     "output_type": "execute_result"
    }
   ],
   "source": [
    "# replace dash with underscore and make all anmes lowercase\n",
    "#df_clean.rename(str.lower, axis = 'columns')\n",
    "\n",
    "df_clean.rename(columns=lambda x: x.lower().replace(\"-\", \"_\"), inplace= True)\n",
    "df_clean.rename(columns = {'scheduledday':'scheduled_day','appointmentday':'appointment_day','hipertension':'hypertension','handcap':'handicap'}, inplace= True)\n",
    "df_clean.head(1)\n",
    "\n",
    "# source: Case Study 2 (6. Cleaning Column Labels)"
   ]
  },
  {
   "cell_type": "markdown",
   "metadata": {},
   "source": [
    "Column names were renamed to make the data easier to read and handle the data."
   ]
  },
  {
   "cell_type": "code",
   "execution_count": 183,
   "metadata": {},
   "outputs": [
    {
     "data": {
      "text/html": [
       "<div>\n",
       "<style scoped>\n",
       "    .dataframe tbody tr th:only-of-type {\n",
       "        vertical-align: middle;\n",
       "    }\n",
       "\n",
       "    .dataframe tbody tr th {\n",
       "        vertical-align: top;\n",
       "    }\n",
       "\n",
       "    .dataframe thead th {\n",
       "        text-align: right;\n",
       "    }\n",
       "</style>\n",
       "<table border=\"1\" class=\"dataframe\">\n",
       "  <thead>\n",
       "    <tr style=\"text-align: right;\">\n",
       "      <th></th>\n",
       "      <th>gender</th>\n",
       "      <th>scheduled_day</th>\n",
       "      <th>appointment_day</th>\n",
       "      <th>age</th>\n",
       "      <th>scholarship</th>\n",
       "      <th>hypertension</th>\n",
       "      <th>diabetes</th>\n",
       "      <th>alcoholism</th>\n",
       "      <th>handicap</th>\n",
       "      <th>sms_received</th>\n",
       "      <th>no_show</th>\n",
       "    </tr>\n",
       "  </thead>\n",
       "  <tbody>\n",
       "  </tbody>\n",
       "</table>\n",
       "</div>"
      ],
      "text/plain": [
       "Empty DataFrame\n",
       "Columns: [gender, scheduled_day, appointment_day, age, scholarship, hypertension, diabetes, alcoholism, handicap, sms_received, no_show]\n",
       "Index: []"
      ]
     },
     "execution_count": 183,
     "metadata": {},
     "output_type": "execute_result"
    }
   ],
   "source": [
    "# drop row where age is less than 0\n",
    "df_clean.drop(99832, inplace= True)\n",
    "# check that the row has been successfully dropped\n",
    "df_clean.query('age < 0')"
   ]
  },
  {
   "cell_type": "markdown",
   "metadata": {},
   "source": [
    "All negative ages have been removed."
   ]
  },
  {
   "cell_type": "code",
   "execution_count": 184,
   "metadata": {},
   "outputs": [],
   "source": [
    "# Covert strings to datetime\n",
    "df_clean['scheduled_day']= pd.to_datetime(df_clean['scheduled_day'])\n",
    "df_clean['appointment_day']= pd.to_datetime(df_clean['appointment_day'])"
   ]
  },
  {
   "cell_type": "code",
   "execution_count": 185,
   "metadata": {},
   "outputs": [
    {
     "name": "stdout",
     "output_type": "stream",
     "text": [
      "<class 'pandas.core.frame.DataFrame'>\n",
      "Int64Index: 110526 entries, 0 to 110526\n",
      "Data columns (total 11 columns):\n",
      " #   Column           Non-Null Count   Dtype              \n",
      "---  ------           --------------   -----              \n",
      " 0   gender           110526 non-null  object             \n",
      " 1   scheduled_day    110526 non-null  datetime64[ns, UTC]\n",
      " 2   appointment_day  110526 non-null  datetime64[ns, UTC]\n",
      " 3   age              110526 non-null  int64              \n",
      " 4   scholarship      110526 non-null  int64              \n",
      " 5   hypertension     110526 non-null  int64              \n",
      " 6   diabetes         110526 non-null  int64              \n",
      " 7   alcoholism       110526 non-null  int64              \n",
      " 8   handicap         110526 non-null  int64              \n",
      " 9   sms_received     110526 non-null  int64              \n",
      " 10  no_show          110526 non-null  object             \n",
      "dtypes: datetime64[ns, UTC](2), int64(7), object(2)\n",
      "memory usage: 10.1+ MB\n"
     ]
    }
   ],
   "source": [
    "# Confirm that dates have been successfully converted\n",
    "df_clean.info()"
   ]
  },
  {
   "cell_type": "markdown",
   "metadata": {},
   "source": [
    "I converted \"ScheduledDay\" and \"AppointmentDay\" into datetime objects to enable me to calculate the difference between the date an appointment is scheduled and the actual appointment date."
   ]
  },
  {
   "cell_type": "code",
   "execution_count": 186,
   "metadata": {},
   "outputs": [
    {
     "data": {
      "text/plain": [
       "0   -1 days +05:21:52\n",
       "1   -1 days +07:51:33\n",
       "2   -1 days +07:40:56\n",
       "3   -1 days +06:30:29\n",
       "4   -1 days +07:52:37\n",
       "dtype: timedelta64[ns]"
      ]
     },
     "execution_count": 186,
     "metadata": {},
     "output_type": "execute_result"
    }
   ],
   "source": [
    "# calculate the number of days between 'appointment day and 'scheduled day'\n",
    "days_to_appointment = df_clean['appointment_day'] - df_clean['scheduled_day']\n",
    "days_to_appointment.head()"
   ]
  },
  {
   "cell_type": "code",
   "execution_count": 187,
   "metadata": {},
   "outputs": [
    {
     "data": {
      "text/plain": [
       "count                        110526\n",
       "mean      9 days 17:08:42.047952517\n",
       "std      15 days 05:51:31.240428096\n",
       "min               -7 days +10:10:40\n",
       "25%               -1 days +15:41:32\n",
       "50%                 3 days 11:22:33\n",
       "75%         14 days 07:41:37.750000\n",
       "max               178 days 13:19:01\n",
       "dtype: object"
      ]
     },
     "execution_count": 187,
     "metadata": {},
     "output_type": "execute_result"
    }
   ],
   "source": [
    "# Describe the data\n",
    "days_to_appointment.describe()"
   ]
  },
  {
   "cell_type": "markdown",
   "metadata": {},
   "source": [
    "I was able to calculate the number of days between the schedule date and the appointment date, however the data is not in a usable format.\n",
    "\n",
    "The calculated data also has negative days, which is not possible."
   ]
  },
  {
   "cell_type": "code",
   "execution_count": 188,
   "metadata": {},
   "outputs": [
    {
     "data": {
      "text/plain": [
       "0    0\n",
       "1    0\n",
       "2    0\n",
       "3    0\n",
       "4    0\n",
       "Name: days_to_appointment, dtype: int32"
      ]
     },
     "execution_count": 188,
     "metadata": {},
     "output_type": "execute_result"
    }
   ],
   "source": [
    "# convert number of days to int and add the data to a new column\n",
    "df_clean['days_to_appointment'] = (days_to_appointment / np.timedelta64(1, 'D')).astype(int)\n",
    "df_clean['days_to_appointment'].head()\n",
    "\n",
    "#source: https://stackoverflow.com/questions/25646200/python-convert-timedelta-to-int-in-a-dataframe"
   ]
  },
  {
   "cell_type": "markdown",
   "metadata": {},
   "source": [
    "'days_to_appoitnment' converted to an int object to make the data easier to manipulate."
   ]
  },
  {
   "cell_type": "code",
   "execution_count": 189,
   "metadata": {},
   "outputs": [
    {
     "data": {
      "text/html": [
       "<div>\n",
       "<style scoped>\n",
       "    .dataframe tbody tr th:only-of-type {\n",
       "        vertical-align: middle;\n",
       "    }\n",
       "\n",
       "    .dataframe tbody tr th {\n",
       "        vertical-align: top;\n",
       "    }\n",
       "\n",
       "    .dataframe thead th {\n",
       "        text-align: right;\n",
       "    }\n",
       "</style>\n",
       "<table border=\"1\" class=\"dataframe\">\n",
       "  <thead>\n",
       "    <tr style=\"text-align: right;\">\n",
       "      <th></th>\n",
       "      <th>gender</th>\n",
       "      <th>scheduled_day</th>\n",
       "      <th>appointment_day</th>\n",
       "      <th>age</th>\n",
       "      <th>scholarship</th>\n",
       "      <th>hypertension</th>\n",
       "      <th>diabetes</th>\n",
       "      <th>alcoholism</th>\n",
       "      <th>handicap</th>\n",
       "      <th>sms_received</th>\n",
       "      <th>no_show</th>\n",
       "      <th>days_to_appointment</th>\n",
       "    </tr>\n",
       "  </thead>\n",
       "  <tbody>\n",
       "    <tr>\n",
       "      <th>27033</th>\n",
       "      <td>M</td>\n",
       "      <td>2016-05-10 10:51:53+00:00</td>\n",
       "      <td>2016-05-09 00:00:00+00:00</td>\n",
       "      <td>38</td>\n",
       "      <td>0</td>\n",
       "      <td>0</td>\n",
       "      <td>0</td>\n",
       "      <td>0</td>\n",
       "      <td>1</td>\n",
       "      <td>0</td>\n",
       "      <td>Yes</td>\n",
       "      <td>-1</td>\n",
       "    </tr>\n",
       "    <tr>\n",
       "      <th>55226</th>\n",
       "      <td>F</td>\n",
       "      <td>2016-05-18 14:50:41+00:00</td>\n",
       "      <td>2016-05-17 00:00:00+00:00</td>\n",
       "      <td>19</td>\n",
       "      <td>0</td>\n",
       "      <td>0</td>\n",
       "      <td>0</td>\n",
       "      <td>0</td>\n",
       "      <td>1</td>\n",
       "      <td>0</td>\n",
       "      <td>Yes</td>\n",
       "      <td>-1</td>\n",
       "    </tr>\n",
       "    <tr>\n",
       "      <th>64175</th>\n",
       "      <td>F</td>\n",
       "      <td>2016-05-05 13:43:58+00:00</td>\n",
       "      <td>2016-05-04 00:00:00+00:00</td>\n",
       "      <td>22</td>\n",
       "      <td>0</td>\n",
       "      <td>0</td>\n",
       "      <td>0</td>\n",
       "      <td>0</td>\n",
       "      <td>0</td>\n",
       "      <td>0</td>\n",
       "      <td>Yes</td>\n",
       "      <td>-1</td>\n",
       "    </tr>\n",
       "    <tr>\n",
       "      <th>71533</th>\n",
       "      <td>F</td>\n",
       "      <td>2016-05-11 13:49:20+00:00</td>\n",
       "      <td>2016-05-05 00:00:00+00:00</td>\n",
       "      <td>81</td>\n",
       "      <td>0</td>\n",
       "      <td>0</td>\n",
       "      <td>0</td>\n",
       "      <td>0</td>\n",
       "      <td>0</td>\n",
       "      <td>0</td>\n",
       "      <td>Yes</td>\n",
       "      <td>-6</td>\n",
       "    </tr>\n",
       "    <tr>\n",
       "      <th>72362</th>\n",
       "      <td>M</td>\n",
       "      <td>2016-05-04 06:50:57+00:00</td>\n",
       "      <td>2016-05-03 00:00:00+00:00</td>\n",
       "      <td>7</td>\n",
       "      <td>0</td>\n",
       "      <td>0</td>\n",
       "      <td>0</td>\n",
       "      <td>0</td>\n",
       "      <td>0</td>\n",
       "      <td>0</td>\n",
       "      <td>Yes</td>\n",
       "      <td>-1</td>\n",
       "    </tr>\n",
       "  </tbody>\n",
       "</table>\n",
       "</div>"
      ],
      "text/plain": [
       "      gender             scheduled_day           appointment_day  age  \\\n",
       "27033      M 2016-05-10 10:51:53+00:00 2016-05-09 00:00:00+00:00   38   \n",
       "55226      F 2016-05-18 14:50:41+00:00 2016-05-17 00:00:00+00:00   19   \n",
       "64175      F 2016-05-05 13:43:58+00:00 2016-05-04 00:00:00+00:00   22   \n",
       "71533      F 2016-05-11 13:49:20+00:00 2016-05-05 00:00:00+00:00   81   \n",
       "72362      M 2016-05-04 06:50:57+00:00 2016-05-03 00:00:00+00:00    7   \n",
       "\n",
       "       scholarship  hypertension  diabetes  alcoholism  handicap  \\\n",
       "27033            0             0         0           0         1   \n",
       "55226            0             0         0           0         1   \n",
       "64175            0             0         0           0         0   \n",
       "71533            0             0         0           0         0   \n",
       "72362            0             0         0           0         0   \n",
       "\n",
       "       sms_received no_show  days_to_appointment  \n",
       "27033             0     Yes                   -1  \n",
       "55226             0     Yes                   -1  \n",
       "64175             0     Yes                   -1  \n",
       "71533             0     Yes                   -6  \n",
       "72362             0     Yes                   -1  "
      ]
     },
     "execution_count": 189,
     "metadata": {},
     "output_type": "execute_result"
    }
   ],
   "source": [
    "# identify the which rows contain negative days\n",
    "df_clean.query('days_to_appointment < 0')"
   ]
  },
  {
   "cell_type": "markdown",
   "metadata": {},
   "source": [
    "We find that 5 rows have negative 'days_to_appointment'. We will assume that 'scheduled_day' and 'appointment_day' for the respective entries were mistakenly swapped around. This can be resolved by forcing all values to be positive"
   ]
  },
  {
   "cell_type": "code",
   "execution_count": 190,
   "metadata": {},
   "outputs": [
    {
     "data": {
      "text/plain": [
       "count    110526.000000\n",
       "mean          9.532915\n",
       "std          15.027724\n",
       "min           0.000000\n",
       "25%           0.000000\n",
       "50%           3.000000\n",
       "75%          14.000000\n",
       "max         178.000000\n",
       "Name: days_to_appointment, dtype: float64"
      ]
     },
     "execution_count": 190,
     "metadata": {},
     "output_type": "execute_result"
    }
   ],
   "source": [
    "# make all values for 'days_to_appointment' positive\n",
    "df_clean['days_to_appointment'] = df_clean['days_to_appointment'].abs()\n",
    "# confirm that values have been made positive\n",
    "df_clean['days_to_appointment'].describe()"
   ]
  },
  {
   "cell_type": "code",
   "execution_count": 191,
   "metadata": {},
   "outputs": [
    {
     "data": {
      "text/plain": [
       "0"
      ]
     },
     "execution_count": 191,
     "metadata": {},
     "output_type": "execute_result"
    }
   ],
   "source": [
    "# count the number of values below 0 days\n",
    "df_clean.query('days_to_appointment < 0')['days_to_appointment'].count()"
   ]
  },
  {
   "cell_type": "markdown",
   "metadata": {},
   "source": [
    "The previous two cells confirm that the negative values have been made positive"
   ]
  },
  {
   "cell_type": "code",
   "execution_count": 192,
   "metadata": {},
   "outputs": [
    {
     "data": {
      "text/html": [
       "<div>\n",
       "<style scoped>\n",
       "    .dataframe tbody tr th:only-of-type {\n",
       "        vertical-align: middle;\n",
       "    }\n",
       "\n",
       "    .dataframe tbody tr th {\n",
       "        vertical-align: top;\n",
       "    }\n",
       "\n",
       "    .dataframe thead th {\n",
       "        text-align: right;\n",
       "    }\n",
       "</style>\n",
       "<table border=\"1\" class=\"dataframe\">\n",
       "  <thead>\n",
       "    <tr style=\"text-align: right;\">\n",
       "      <th></th>\n",
       "      <th>gender</th>\n",
       "      <th>scheduled_day</th>\n",
       "      <th>appointment_day</th>\n",
       "      <th>age</th>\n",
       "      <th>scholarship</th>\n",
       "      <th>hypertension</th>\n",
       "      <th>diabetes</th>\n",
       "      <th>alcoholism</th>\n",
       "      <th>handicap</th>\n",
       "      <th>sms_received</th>\n",
       "      <th>no_show</th>\n",
       "      <th>days_to_appointment</th>\n",
       "    </tr>\n",
       "  </thead>\n",
       "  <tbody>\n",
       "    <tr>\n",
       "      <th>0</th>\n",
       "      <td>F</td>\n",
       "      <td>2016-04-29 18:38:08+00:00</td>\n",
       "      <td>2016-04-29 00:00:00+00:00</td>\n",
       "      <td>62</td>\n",
       "      <td>0</td>\n",
       "      <td>1</td>\n",
       "      <td>0</td>\n",
       "      <td>0</td>\n",
       "      <td>0</td>\n",
       "      <td>0</td>\n",
       "      <td>No</td>\n",
       "      <td>0</td>\n",
       "    </tr>\n",
       "    <tr>\n",
       "      <th>1</th>\n",
       "      <td>M</td>\n",
       "      <td>2016-04-29 16:08:27+00:00</td>\n",
       "      <td>2016-04-29 00:00:00+00:00</td>\n",
       "      <td>56</td>\n",
       "      <td>0</td>\n",
       "      <td>0</td>\n",
       "      <td>0</td>\n",
       "      <td>0</td>\n",
       "      <td>0</td>\n",
       "      <td>0</td>\n",
       "      <td>No</td>\n",
       "      <td>0</td>\n",
       "    </tr>\n",
       "    <tr>\n",
       "      <th>2</th>\n",
       "      <td>F</td>\n",
       "      <td>2016-04-29 16:19:04+00:00</td>\n",
       "      <td>2016-04-29 00:00:00+00:00</td>\n",
       "      <td>62</td>\n",
       "      <td>0</td>\n",
       "      <td>0</td>\n",
       "      <td>0</td>\n",
       "      <td>0</td>\n",
       "      <td>0</td>\n",
       "      <td>0</td>\n",
       "      <td>No</td>\n",
       "      <td>0</td>\n",
       "    </tr>\n",
       "    <tr>\n",
       "      <th>3</th>\n",
       "      <td>F</td>\n",
       "      <td>2016-04-29 17:29:31+00:00</td>\n",
       "      <td>2016-04-29 00:00:00+00:00</td>\n",
       "      <td>8</td>\n",
       "      <td>0</td>\n",
       "      <td>0</td>\n",
       "      <td>0</td>\n",
       "      <td>0</td>\n",
       "      <td>0</td>\n",
       "      <td>0</td>\n",
       "      <td>No</td>\n",
       "      <td>0</td>\n",
       "    </tr>\n",
       "    <tr>\n",
       "      <th>4</th>\n",
       "      <td>F</td>\n",
       "      <td>2016-04-29 16:07:23+00:00</td>\n",
       "      <td>2016-04-29 00:00:00+00:00</td>\n",
       "      <td>56</td>\n",
       "      <td>0</td>\n",
       "      <td>1</td>\n",
       "      <td>1</td>\n",
       "      <td>0</td>\n",
       "      <td>0</td>\n",
       "      <td>0</td>\n",
       "      <td>No</td>\n",
       "      <td>0</td>\n",
       "    </tr>\n",
       "  </tbody>\n",
       "</table>\n",
       "</div>"
      ],
      "text/plain": [
       "  gender             scheduled_day           appointment_day  age  \\\n",
       "0      F 2016-04-29 18:38:08+00:00 2016-04-29 00:00:00+00:00   62   \n",
       "1      M 2016-04-29 16:08:27+00:00 2016-04-29 00:00:00+00:00   56   \n",
       "2      F 2016-04-29 16:19:04+00:00 2016-04-29 00:00:00+00:00   62   \n",
       "3      F 2016-04-29 17:29:31+00:00 2016-04-29 00:00:00+00:00    8   \n",
       "4      F 2016-04-29 16:07:23+00:00 2016-04-29 00:00:00+00:00   56   \n",
       "\n",
       "   scholarship  hypertension  diabetes  alcoholism  handicap  sms_received  \\\n",
       "0            0             1         0           0         0             0   \n",
       "1            0             0         0           0         0             0   \n",
       "2            0             0         0           0         0             0   \n",
       "3            0             0         0           0         0             0   \n",
       "4            0             1         1           0         0             0   \n",
       "\n",
       "  no_show  days_to_appointment  \n",
       "0      No                    0  \n",
       "1      No                    0  \n",
       "2      No                    0  \n",
       "3      No                    0  \n",
       "4      No                    0  "
      ]
     },
     "execution_count": 192,
     "metadata": {},
     "output_type": "execute_result"
    }
   ],
   "source": [
    "# view sample of cleaned data\n",
    "df_clean.head()"
   ]
  },
  {
   "cell_type": "code",
   "execution_count": 193,
   "metadata": {},
   "outputs": [
    {
     "data": {
      "text/plain": [
       "(110526, 12)"
      ]
     },
     "execution_count": 193,
     "metadata": {},
     "output_type": "execute_result"
    }
   ],
   "source": [
    "# show the final dimensions of the cleaned data\n",
    "df_clean.shape"
   ]
  },
  {
   "cell_type": "code",
   "execution_count": 194,
   "metadata": {},
   "outputs": [
    {
     "data": {
      "image/png": "[encoded data removed]",
      "text/plain": [
       "<Figure size 1296x864 with 12 Axes>"
      ]
     },
     "metadata": {
      "needs_background": "light"
     },
     "output_type": "display_data"
    }
   ],
   "source": [
    "# Show a distribution of the data\n",
    "df_clean.hist(figsize=(18,12));"
   ]
  },
  {
   "cell_type": "markdown",
   "metadata": {},
   "source": [
    "The has now been cleaned.\n",
    "\n",
    "There are now 110,526 rows and 12 columns present in the data that will be further analyzed.\n",
    "\n",
    "Final distributions presented."
   ]
  },
  {
   "cell_type": "markdown",
   "metadata": {},
   "source": [
    "<a id='eda'></a>\n",
    "# Exploratory Data Analysis\n",
    "\n",
    "> **Tip**: Now that you've trimmed and cleaned your data, you're ready to move on to exploration. Compute statistics and create visualizations with the goal of addressing the research questions that you posed in the Introduction section. It is recommended that you be systematic with your approach. Look at one variable at a time, and then follow it up by looking at relationships between variables.\n",
    "\n",
    "### 1. Which gender is more likely to miss an appointment?"
   ]
  },
  {
   "cell_type": "code",
   "execution_count": 195,
   "metadata": {
    "collapsed": true
   },
   "outputs": [],
   "source": [
    "# Create a new dataframe to answer question 1\n",
    "df_gender = df_clean"
   ]
  },
  {
   "cell_type": "code",
   "execution_count": 196,
   "metadata": {},
   "outputs": [
    {
     "data": {
      "text/plain": [
       "88207"
      ]
     },
     "execution_count": 196,
     "metadata": {},
     "output_type": "execute_result"
    }
   ],
   "source": [
    "# Calculte the number of patients that show up for appointments\n",
    "show = df_clean.query('no_show == \"No\"').value_counts().sum()\n",
    "show"
   ]
  },
  {
   "cell_type": "code",
   "execution_count": 197,
   "metadata": {},
   "outputs": [
    {
     "data": {
      "text/plain": [
       "22319"
      ]
     },
     "execution_count": 197,
     "metadata": {},
     "output_type": "execute_result"
    }
   ],
   "source": [
    "# Calculte the number of patients that show up for appointments\n",
    "no_show = df_clean.query('no_show == \"Yes\"').value_counts().sum()\n",
    "no_show"
   ]
  },
  {
   "cell_type": "code",
   "execution_count": 198,
   "metadata": {},
   "outputs": [
    {
     "data": {
      "text/plain": [
       "79.81"
      ]
     },
     "execution_count": 198,
     "metadata": {},
     "output_type": "execute_result"
    }
   ],
   "source": [
    "# Calculate the proportion of patients that show up\n",
    "pct_show = np.round(show / (show + no_show) * 100,2)\n",
    "pct_show"
   ]
  },
  {
   "cell_type": "code",
   "execution_count": 199,
   "metadata": {},
   "outputs": [
    {
     "data": {
      "text/plain": [
       "20.19"
      ]
     },
     "execution_count": 199,
     "metadata": {},
     "output_type": "execute_result"
    }
   ],
   "source": [
    "# Calculate the proportion of patients that don't show up\n",
    "pct_no_show = np.round(no_show / (show + no_show) * 100,2)\n",
    "pct_no_show"
   ]
  },
  {
   "cell_type": "code",
   "execution_count": 200,
   "metadata": {},
   "outputs": [
    {
     "data": {
      "image/png": "[encoded data removed]",
      "text/plain": [
       "<Figure size 432x288 with 1 Axes>"
      ]
     },
     "metadata": {},
     "output_type": "display_data"
    }
   ],
   "source": [
    "# Plot pie chart showing proportion of no shows and patients that do show\n",
    "from turtle import title\n",
    "\n",
    "fig1, ax = plt.subplots()\n",
    "ax.pie([pct_show, pct_no_show], labels = ('Show', 'No Show'), autopct='%1.1f%%')\n",
    "plt.title('Percentage of patients that show up')\n",
    "plt.rcParams[\"figure.figsize\"] = (14,7) \n",
    "\n",
    "# Source: https://stackoverflow.com/questions/61239061/how-do-you-resize-a-bar-chart-created-using-matplotlib \n",
    "# Source: https://matplotlib.org/stable/gallery/pie_and_polar_charts/pie_features.html\n",
    "# Source: https://www.w3resource.com/graphics/matplotlib/piechart/matplotlib-piechart-exercise-2.php"
   ]
  },
  {
   "cell_type": "markdown",
   "metadata": {},
   "source": [
    "We establish that 20.19% of all patients don't show up for appoints. We will use this as a benchmark for the data.\n",
    "\n",
    "The next step is to establish whether gender has an effect on this statistic"
   ]
  },
  {
   "cell_type": "code",
   "execution_count": 201,
   "metadata": {},
   "outputs": [
    {
     "data": {
      "text/plain": [
       "71839"
      ]
     },
     "execution_count": 201,
     "metadata": {},
     "output_type": "execute_result"
    }
   ],
   "source": [
    "# Calculate the number of female patients\n",
    "female = df_gender.query('gender == \"F\"')['gender'].count()\n",
    "female"
   ]
  },
  {
   "cell_type": "markdown",
   "metadata": {},
   "source": [
    "There are 71,839 female patients"
   ]
  },
  {
   "cell_type": "code",
   "execution_count": 202,
   "metadata": {},
   "outputs": [
    {
     "data": {
      "text/plain": [
       "38687"
      ]
     },
     "execution_count": 202,
     "metadata": {},
     "output_type": "execute_result"
    }
   ],
   "source": [
    "# Calculate the number of male patients\n",
    "male = df_gender.query('gender == \"M\"')['gender'].count()\n",
    "male"
   ]
  },
  {
   "cell_type": "markdown",
   "metadata": {},
   "source": [
    "There are 38,687 male patients"
   ]
  },
  {
   "cell_type": "code",
   "execution_count": 203,
   "metadata": {},
   "outputs": [
    {
     "data": {
      "text/plain": [
       "110526"
      ]
     },
     "execution_count": 203,
     "metadata": {},
     "output_type": "execute_result"
    }
   ],
   "source": [
    "# Calculate the total number of patients. Make sure that it matches the dimensions calculated earlier\n",
    "total_app = female + male\n",
    "total_app"
   ]
  },
  {
   "cell_type": "markdown",
   "metadata": {},
   "source": [
    "The total matches the number of rows in the data. We can be confident that all the values have been accounted for."
   ]
  },
  {
   "cell_type": "code",
   "execution_count": 204,
   "metadata": {},
   "outputs": [
    {
     "data": {
      "image/png": "[encoded data removed]",
      "text/plain": [
       "<Figure size 1008x504 with 1 Axes>"
      ]
     },
     "metadata": {},
     "output_type": "display_data"
    }
   ],
   "source": [
    "\n",
    "fig1, ax = plt.subplots()\n",
    "ax.pie([female, male], labels = ('Females', 'Males'), autopct='%1.1f%%')\n",
    "plt.title('Percentage of male vs female patients')\n",
    "plt.rcParams[\"figure.figsize\"] = (14,7) "
   ]
  },
  {
   "cell_type": "markdown",
   "metadata": {},
   "source": [
    "Females account for 65% of all patients"
   ]
  },
  {
   "cell_type": "code",
   "execution_count": 205,
   "metadata": {},
   "outputs": [
    {
     "data": {
      "text/plain": [
       "(71839, 38687)"
      ]
     },
     "execution_count": 205,
     "metadata": {},
     "output_type": "execute_result"
    },
    {
     "data": {
      "image/png": "[encoded data removed]",
      "text/plain": [
       "<Figure size 1008x504 with 1 Axes>"
      ]
     },
     "metadata": {
      "needs_background": "light"
     },
     "output_type": "display_data"
    }
   ],
   "source": [
    "# Plot the number of female vs male patients\n",
    "gender_heights = [female, male]\n",
    "gender_labels = ['Female ({})'.format(female), 'Male ({})'.format(male)]\n",
    "plt.bar([1,2],gender_heights, tick_label = gender_labels, color=['pink','green'])\n",
    "\n",
    "# Chart title\n",
    "plt.title('Number of patients by gender: Total {}'.format(total_app))\n",
    "# Label x-axis\n",
    "plt.xlabel('Gender')\n",
    "# Label y-axis\n",
    "plt.ylabel('Number of patients');\n",
    "# Resize chart\n",
    "plt.rcParams['figure.figsize'] = (14,7) \n",
    "# Show total number for females and for males\n",
    "female, male"
   ]
  },
  {
   "cell_type": "markdown",
   "metadata": {},
   "source": [
    "The chart above shows that there is almost double the number of female patients than there are males. \n",
    "\n",
    "We can't make any inferences on whether gender has an impact on whether a patient shows based on this result. We will need to investigate further by determining what proportion of each gender misses its appointments."
   ]
  },
  {
   "cell_type": "code",
   "execution_count": 206,
   "metadata": {},
   "outputs": [
    {
     "data": {
      "text/plain": [
       "14594"
      ]
     },
     "execution_count": 206,
     "metadata": {},
     "output_type": "execute_result"
    }
   ],
   "source": [
    "# Calculate the number of females that didn't show up for their appointments\n",
    "female_no_show = df_gender.query('no_show == \"Yes\"').query('gender == \"F\"')['gender'].count()\n",
    "female_no_show"
   ]
  },
  {
   "cell_type": "markdown",
   "metadata": {},
   "source": [
    "There are 14,594 female patients that missed appointments"
   ]
  },
  {
   "cell_type": "code",
   "execution_count": 207,
   "metadata": {},
   "outputs": [
    {
     "data": {
      "text/plain": [
       "7725"
      ]
     },
     "execution_count": 207,
     "metadata": {},
     "output_type": "execute_result"
    }
   ],
   "source": [
    "# Calculate the number of males that didn't show up for their appointments\n",
    "male_no_show = df_gender.query('no_show == \"Yes\"').query('gender == \"M\"')['gender'].count()\n",
    "male_no_show"
   ]
  },
  {
   "cell_type": "markdown",
   "metadata": {},
   "source": [
    "There are 7,725 male patients that missed appointments"
   ]
  },
  {
   "cell_type": "code",
   "execution_count": 208,
   "metadata": {},
   "outputs": [
    {
     "data": {
      "text/plain": [
       "20.31"
      ]
     },
     "execution_count": 208,
     "metadata": {},
     "output_type": "execute_result"
    }
   ],
   "source": [
    "# Percentage of females that didn't show up\n",
    "pct_no_show_f = np.round(female_no_show / female * 100,2)\n",
    "pct_no_show_f"
   ]
  },
  {
   "cell_type": "code",
   "execution_count": 209,
   "metadata": {},
   "outputs": [
    {
     "data": {
      "text/plain": [
       "19.97"
      ]
     },
     "execution_count": 209,
     "metadata": {},
     "output_type": "execute_result"
    }
   ],
   "source": [
    "# Percentage of males that didn't show up\n",
    "pct_no_show_m = np.round(male_no_show / male * 100,2)\n",
    "pct_no_show_m"
   ]
  },
  {
   "cell_type": "code",
   "execution_count": 210,
   "metadata": {},
   "outputs": [
    {
     "data": {
      "image/png": "[encoded data removed]",
      "text/plain": [
       "<Figure size 1008x504 with 1 Axes>"
      ]
     },
     "metadata": {
      "needs_background": "light"
     },
     "output_type": "display_data"
    }
   ],
   "source": [
    "# Plot the proportion of females vs male that don't show up for appointments\n",
    "show_heights = [pct_no_show_f, pct_no_show_m]\n",
    "gender_labels = ['Female ({}%)'.format(pct_no_show_f), 'Male ({}%)'.format(pct_no_show_m)]\n",
    "plt.bar([1,2],show_heights, tick_label = gender_labels, color=['pink','green'])\n",
    "# Chart title\n",
    "plt.title(\"Percentage of patients that don't show up\")\n",
    "# Label x-axis\n",
    "plt.xlabel('Gender')\n",
    "# Label y-axis\n",
    "plt.ylabel('Percentage %');\n",
    "# Resize chart\n",
    "plt.rcParams['figure.figsize'] = (14,7)"
   ]
  },
  {
   "cell_type": "markdown",
   "metadata": {},
   "source": [
    "#### 1. Conclusion\n",
    "\n",
    "20.19% of all patients did not show up for the appointments (benchmark)\n",
    "\n",
    "20.31% of female patients don't show up\n",
    "\n",
    "19.97% of male patients don't show up\n",
    "\n",
    "From the results above we can see that the proportion of males and females that miss their appointments is very similar to the benchmark (20.19%). \n",
    "\n",
    "Based on this result, we can theorise that a patient's gender may not significantly impact whether or not a patient shows up for an appointment. \n",
    "\n",
    "The likelihood of a female missing an appointment is similar to that of a male. Based on this limited analysis, it appears that gender may not determine whether a patient misses an appointment.\n",
    "\n",
    "Despite this we cannot rule out the possibilty of a relationship existing between gender and not showing up without deeper analysis."
   ]
  },
  {
   "cell_type": "markdown",
   "metadata": {},
   "source": [
    "### 2. Does the number of days from when a patient schedules an appointment to the actual appointment date affect whether he/she shows up?"
   ]
  },
  {
   "cell_type": "code",
   "execution_count": 211,
   "metadata": {},
   "outputs": [],
   "source": [
    "# Create new dataframe to answer question 2\n",
    "df_days = df_clean"
   ]
  },
  {
   "cell_type": "code",
   "execution_count": 212,
   "metadata": {},
   "outputs": [
    {
     "data": {
      "text/plain": [
       "count    110526.000000\n",
       "mean          9.532915\n",
       "std          15.027724\n",
       "min           0.000000\n",
       "25%           0.000000\n",
       "50%           3.000000\n",
       "75%          14.000000\n",
       "max         178.000000\n",
       "Name: days_to_appointment, dtype: float64"
      ]
     },
     "execution_count": 212,
     "metadata": {},
     "output_type": "execute_result"
    }
   ],
   "source": [
    "# Descriptive statistics for 'days_to_appointment'\n",
    "df_days['days_to_appointment'].describe()"
   ]
  },
  {
   "cell_type": "code",
   "execution_count": 213,
   "metadata": {},
   "outputs": [
    {
     "data": {
      "image/png": "[encoded data removed]",
      "text/plain": [
       "<Figure size 1008x504 with 1 Axes>"
      ]
     },
     "metadata": {
      "needs_background": "light"
     },
     "output_type": "display_data"
    }
   ],
   "source": [
    "# Plot the distribution of appointments against the number of days between the schedule and appointment day\n",
    "df_days['days_to_appointment'].value_counts().plot()\n",
    "plt.title(\"Number of days from schedule day to appointment day\")\n",
    "plt.xlabel('Number of days')\n",
    "plt.ylabel('Number of appointments');\n",
    "# resize chart\n",
    "plt.rcParams['figure.figsize'] = (10,5) "
   ]
  },
  {
   "cell_type": "code",
   "execution_count": 214,
   "metadata": {},
   "outputs": [
    {
     "data": {
      "image/png": "[encoded data removed]",
      "text/plain": [
       "<Figure size 720x360 with 1 Axes>"
      ]
     },
     "metadata": {
      "needs_background": "light"
     },
     "output_type": "display_data"
    }
   ],
   "source": [
    "# Plot histogram\n",
    "df_days['days_to_appointment'].hist();\n",
    "# resize chart\n",
    "plt.rcParams['figure.figsize'] = (20,10)"
   ]
  },
  {
   "cell_type": "code",
   "execution_count": 215,
   "metadata": {},
   "outputs": [
    {
     "data": {
      "image/png": "[encoded data removed]",
      "text/plain": [
       "<Figure size 1440x720 with 1 Axes>"
      ]
     },
     "metadata": {
      "needs_background": "light"
     },
     "output_type": "display_data"
    }
   ],
   "source": [
    "# Plot boxplot to visulaise outliers\n",
    "plt.boxplot(df_days['days_to_appointment']);\n",
    "# resize chart\n",
    "plt.rcParams['figure.figsize'] = (12,6)"
   ]
  },
  {
   "cell_type": "code",
   "execution_count": 216,
   "metadata": {},
   "outputs": [
    {
     "data": {
      "text/plain": [
       "9706"
      ]
     },
     "execution_count": 216,
     "metadata": {},
     "output_type": "execute_result"
    }
   ],
   "source": [
    "# Calculate number of appointments after 30 days\n",
    "days_30 = df_days.query('days_to_appointment >30').value_counts().sum()\n",
    "days_30"
   ]
  },
  {
   "cell_type": "code",
   "execution_count": 217,
   "metadata": {},
   "outputs": [
    {
     "data": {
      "text/plain": [
       "8.78"
      ]
     },
     "execution_count": 217,
     "metadata": {},
     "output_type": "execute_result"
    }
   ],
   "source": [
    "# Percentage of appointments that take place after 30 days\n",
    "np.round(days_30 / total_app * 100,2)"
   ]
  },
  {
   "cell_type": "markdown",
   "metadata": {},
   "source": [
    "#### Results of descriptive statistics, line chart and boxplot\n",
    "\n",
    "It looks like significant number of appointments are scheduled on the same day, with the data heavily skewed to the right.\n",
    "\n",
    "The number of days to an appointment range from 0 days to 178 days, with 75% of all of appointments taking place within 14 days. \n",
    "\n",
    "The average wait time is 9.53 days, with only 8.78% of appointments taking place after 30 days of being scheduled.\n",
    "\n"
   ]
  },
  {
   "cell_type": "code",
   "execution_count": 218,
   "metadata": {},
   "outputs": [],
   "source": [
    "# Create catergories for 'days_to_appointment'\n",
    "bins=[-1, 1, 3, 14, 30,178]"
   ]
  },
  {
   "cell_type": "markdown",
   "metadata": {},
   "source": [
    "Bins calculated according to the distribution in the descriptive statistics of this data\n",
    "\n",
    "I have included the 30 day mark because that is the point where the number of appointments start to drastically slow down\n"
   ]
  },
  {
   "cell_type": "code",
   "execution_count": 219,
   "metadata": {},
   "outputs": [],
   "source": [
    "# Create new column for new range\n",
    "df_days['wait_time'] = pd.cut(df_days['days_to_appointment'], bins=bins)"
   ]
  },
  {
   "cell_type": "code",
   "execution_count": 220,
   "metadata": {},
   "outputs": [
    {
     "data": {
      "text/html": [
       "<div>\n",
       "<style scoped>\n",
       "    .dataframe tbody tr th:only-of-type {\n",
       "        vertical-align: middle;\n",
       "    }\n",
       "\n",
       "    .dataframe tbody tr th {\n",
       "        vertical-align: top;\n",
       "    }\n",
       "\n",
       "    .dataframe thead th {\n",
       "        text-align: right;\n",
       "    }\n",
       "</style>\n",
       "<table border=\"1\" class=\"dataframe\">\n",
       "  <thead>\n",
       "    <tr style=\"text-align: right;\">\n",
       "      <th>no_show</th>\n",
       "      <th>No</th>\n",
       "      <th>Yes</th>\n",
       "    </tr>\n",
       "    <tr>\n",
       "      <th>wait_time</th>\n",
       "      <th></th>\n",
       "      <th></th>\n",
       "    </tr>\n",
       "  </thead>\n",
       "  <tbody>\n",
       "    <tr>\n",
       "      <th>(-1, 1]</th>\n",
       "      <td>45993</td>\n",
       "      <td>4511</td>\n",
       "    </tr>\n",
       "    <tr>\n",
       "      <th>(1, 3]</th>\n",
       "      <td>6152</td>\n",
       "      <td>1875</td>\n",
       "    </tr>\n",
       "    <tr>\n",
       "      <th>(3, 14]</th>\n",
       "      <td>18400</td>\n",
       "      <td>7349</td>\n",
       "    </tr>\n",
       "    <tr>\n",
       "      <th>(14, 30]</th>\n",
       "      <td>11161</td>\n",
       "      <td>5379</td>\n",
       "    </tr>\n",
       "    <tr>\n",
       "      <th>(30, 178]</th>\n",
       "      <td>6501</td>\n",
       "      <td>3205</td>\n",
       "    </tr>\n",
       "  </tbody>\n",
       "</table>\n",
       "</div>"
      ],
      "text/plain": [
       "no_show       No   Yes\n",
       "wait_time             \n",
       "(-1, 1]    45993  4511\n",
       "(1, 3]      6152  1875\n",
       "(3, 14]    18400  7349\n",
       "(14, 30]   11161  5379\n",
       "(30, 178]   6501  3205"
      ]
     },
     "execution_count": 220,
     "metadata": {},
     "output_type": "execute_result"
    }
   ],
   "source": [
    "# Create new dataframe for show/no show grouped by 'days_to_appointment\n",
    "wait = df_days.groupby(['wait_time','no_show']).size().unstack()\n",
    "wait"
   ]
  },
  {
   "cell_type": "code",
   "execution_count": 221,
   "metadata": {},
   "outputs": [
    {
     "data": {
      "image/png": "[encoded data removed]",
      "text/plain": [
       "<Figure size 864x432 with 1 Axes>"
      ]
     },
     "metadata": {
      "needs_background": "light"
     },
     "output_type": "display_data"
    }
   ],
   "source": [
    "# Create labels for bars\n",
    "day_range = ['Less than 1 day', '1-3 days','3-10 days', '10 to 30 days', 'More than 30 days']\n",
    "# Rename columns \n",
    "wait.rename(columns = {'Yes':'No Show', 'No':'Showed Up'}, inplace = True)\n",
    "\n",
    "# Plot stsacked chart\n",
    "ax = wait.plot(kind ='bar', stacked = True, width = 0.65)\n",
    "\n",
    "# Label individual bars\n",
    "for bar in ax.patches:\n",
    "    height = bar.get_height()\n",
    "    width = bar.get_width()\n",
    "    x = bar.get_x()\n",
    "    y = bar.get_y()\n",
    "    label_text = height\n",
    "    label_x = x + width / 2\n",
    "    label_y = y + height / 2\n",
    "    ax.text(label_x, label_y, label_text, ha='center',    \n",
    "            va='center')\n",
    "    \n",
    "\n",
    "# Set Tick labels\n",
    "ax.set_xticklabels(day_range,rotation='horizontal')\n",
    "ax.set_title(\"Number of patients that show up vs pateints that don't show up\")\n",
    "ax.set_xlabel('Number of days to appointment')\n",
    "ax.set_ylabel('Number of patients')\n",
    "# Format legend\n",
    "ax.legend(title= None,loc='upper right')\n",
    "# Resize chart\n",
    "plt.rcParams[\"figure.figsize\"] = (14,7)\n",
    "\n",
    "# source: https://pythonguides.com/stacked-bar-chart-matplotlib/"
   ]
  },
  {
   "cell_type": "markdown",
   "metadata": {},
   "source": [
    "We want to see the number of patients that and show up and those that don't show up for each time period.\n",
    "\n",
    "Almost half of all appointments take place on the same day that they are scheduled.\n",
    "\n",
    "The number of appointments drop off between 1 to 3 days and then increase between 3 to 14 days before decreasing for the rest of the periods.\n",
    "\n",
    "To further investigate whether there is a relationship between the number of days a patient waits for an appointment and whether or not they show up or not, we will have compute the rate of no shows for the range of days."
   ]
  },
  {
   "cell_type": "code",
   "execution_count": 222,
   "metadata": {},
   "outputs": [
    {
     "data": {
      "text/html": [
       "<div>\n",
       "<style scoped>\n",
       "    .dataframe tbody tr th:only-of-type {\n",
       "        vertical-align: middle;\n",
       "    }\n",
       "\n",
       "    .dataframe tbody tr th {\n",
       "        vertical-align: top;\n",
       "    }\n",
       "\n",
       "    .dataframe thead th {\n",
       "        text-align: right;\n",
       "    }\n",
       "</style>\n",
       "<table border=\"1\" class=\"dataframe\">\n",
       "  <thead>\n",
       "    <tr style=\"text-align: right;\">\n",
       "      <th>no_show</th>\n",
       "      <th>Showed Up</th>\n",
       "      <th>No Show</th>\n",
       "    </tr>\n",
       "    <tr>\n",
       "      <th>wait_time</th>\n",
       "      <th></th>\n",
       "      <th></th>\n",
       "    </tr>\n",
       "  </thead>\n",
       "  <tbody>\n",
       "    <tr>\n",
       "      <th>(-1, 1]</th>\n",
       "      <td>45993</td>\n",
       "      <td>4511</td>\n",
       "    </tr>\n",
       "    <tr>\n",
       "      <th>(1, 3]</th>\n",
       "      <td>6152</td>\n",
       "      <td>1875</td>\n",
       "    </tr>\n",
       "    <tr>\n",
       "      <th>(3, 14]</th>\n",
       "      <td>18400</td>\n",
       "      <td>7349</td>\n",
       "    </tr>\n",
       "    <tr>\n",
       "      <th>(14, 30]</th>\n",
       "      <td>11161</td>\n",
       "      <td>5379</td>\n",
       "    </tr>\n",
       "    <tr>\n",
       "      <th>(30, 178]</th>\n",
       "      <td>6501</td>\n",
       "      <td>3205</td>\n",
       "    </tr>\n",
       "  </tbody>\n",
       "</table>\n",
       "</div>"
      ],
      "text/plain": [
       "no_show    Showed Up  No Show\n",
       "wait_time                    \n",
       "(-1, 1]        45993     4511\n",
       "(1, 3]          6152     1875\n",
       "(3, 14]        18400     7349\n",
       "(14, 30]       11161     5379\n",
       "(30, 178]       6501     3205"
      ]
     },
     "execution_count": 222,
     "metadata": {},
     "output_type": "execute_result"
    }
   ],
   "source": [
    "# Create a new dataframe to calculate the percentage of no shows\n",
    "wait_pct = wait\n",
    "wait_pct"
   ]
  },
  {
   "cell_type": "code",
   "execution_count": 223,
   "metadata": {},
   "outputs": [
    {
     "data": {
      "text/html": [
       "<div>\n",
       "<style scoped>\n",
       "    .dataframe tbody tr th:only-of-type {\n",
       "        vertical-align: middle;\n",
       "    }\n",
       "\n",
       "    .dataframe tbody tr th {\n",
       "        vertical-align: top;\n",
       "    }\n",
       "\n",
       "    .dataframe thead th {\n",
       "        text-align: right;\n",
       "    }\n",
       "</style>\n",
       "<table border=\"1\" class=\"dataframe\">\n",
       "  <thead>\n",
       "    <tr style=\"text-align: right;\">\n",
       "      <th>no_show</th>\n",
       "      <th>Showed Up</th>\n",
       "      <th>No Show</th>\n",
       "      <th>show_%</th>\n",
       "      <th>no_show_%</th>\n",
       "    </tr>\n",
       "    <tr>\n",
       "      <th>wait_time</th>\n",
       "      <th></th>\n",
       "      <th></th>\n",
       "      <th></th>\n",
       "      <th></th>\n",
       "    </tr>\n",
       "  </thead>\n",
       "  <tbody>\n",
       "    <tr>\n",
       "      <th>(-1, 1]</th>\n",
       "      <td>45993</td>\n",
       "      <td>4511</td>\n",
       "      <td>91</td>\n",
       "      <td>9</td>\n",
       "    </tr>\n",
       "    <tr>\n",
       "      <th>(1, 3]</th>\n",
       "      <td>6152</td>\n",
       "      <td>1875</td>\n",
       "      <td>77</td>\n",
       "      <td>23</td>\n",
       "    </tr>\n",
       "    <tr>\n",
       "      <th>(3, 14]</th>\n",
       "      <td>18400</td>\n",
       "      <td>7349</td>\n",
       "      <td>71</td>\n",
       "      <td>29</td>\n",
       "    </tr>\n",
       "    <tr>\n",
       "      <th>(14, 30]</th>\n",
       "      <td>11161</td>\n",
       "      <td>5379</td>\n",
       "      <td>67</td>\n",
       "      <td>33</td>\n",
       "    </tr>\n",
       "    <tr>\n",
       "      <th>(30, 178]</th>\n",
       "      <td>6501</td>\n",
       "      <td>3205</td>\n",
       "      <td>67</td>\n",
       "      <td>33</td>\n",
       "    </tr>\n",
       "  </tbody>\n",
       "</table>\n",
       "</div>"
      ],
      "text/plain": [
       "no_show    Showed Up  No Show  show_%  no_show_%\n",
       "wait_time                                       \n",
       "(-1, 1]        45993     4511      91          9\n",
       "(1, 3]          6152     1875      77         23\n",
       "(3, 14]        18400     7349      71         29\n",
       "(14, 30]       11161     5379      67         33\n",
       "(30, 178]       6501     3205      67         33"
      ]
     },
     "execution_count": 223,
     "metadata": {},
     "output_type": "execute_result"
    }
   ],
   "source": [
    "# New column / calculate percentage of patients that show up for each range of days\n",
    "wait_pct['show_%'] = np.int0(np.round(wait['Showed Up'] / (wait['No Show'] + wait['Showed Up'])*100,0))\n",
    "# New column / calculate percentage of patients that don't show up for each range of days\n",
    "wait_pct['no_show_%'] = np.int0(np.round(wait['No Show'] / (wait['No Show'] + wait['Showed Up'])*100,0))\n",
    "wait_pct"
   ]
  },
  {
   "cell_type": "code",
   "execution_count": 224,
   "metadata": {},
   "outputs": [
    {
     "data": {
      "text/html": [
       "<div>\n",
       "<style scoped>\n",
       "    .dataframe tbody tr th:only-of-type {\n",
       "        vertical-align: middle;\n",
       "    }\n",
       "\n",
       "    .dataframe tbody tr th {\n",
       "        vertical-align: top;\n",
       "    }\n",
       "\n",
       "    .dataframe thead th {\n",
       "        text-align: right;\n",
       "    }\n",
       "</style>\n",
       "<table border=\"1\" class=\"dataframe\">\n",
       "  <thead>\n",
       "    <tr style=\"text-align: right;\">\n",
       "      <th>no_show</th>\n",
       "      <th>show_%</th>\n",
       "      <th>no_show_%</th>\n",
       "    </tr>\n",
       "    <tr>\n",
       "      <th>wait_time</th>\n",
       "      <th></th>\n",
       "      <th></th>\n",
       "    </tr>\n",
       "  </thead>\n",
       "  <tbody>\n",
       "    <tr>\n",
       "      <th>(-1, 1]</th>\n",
       "      <td>91</td>\n",
       "      <td>9</td>\n",
       "    </tr>\n",
       "    <tr>\n",
       "      <th>(1, 3]</th>\n",
       "      <td>77</td>\n",
       "      <td>23</td>\n",
       "    </tr>\n",
       "    <tr>\n",
       "      <th>(3, 14]</th>\n",
       "      <td>71</td>\n",
       "      <td>29</td>\n",
       "    </tr>\n",
       "    <tr>\n",
       "      <th>(14, 30]</th>\n",
       "      <td>67</td>\n",
       "      <td>33</td>\n",
       "    </tr>\n",
       "    <tr>\n",
       "      <th>(30, 178]</th>\n",
       "      <td>67</td>\n",
       "      <td>33</td>\n",
       "    </tr>\n",
       "  </tbody>\n",
       "</table>\n",
       "</div>"
      ],
      "text/plain": [
       "no_show    show_%  no_show_%\n",
       "wait_time                   \n",
       "(-1, 1]        91          9\n",
       "(1, 3]         77         23\n",
       "(3, 14]        71         29\n",
       "(14, 30]       67         33\n",
       "(30, 178]      67         33"
      ]
     },
     "execution_count": 224,
     "metadata": {},
     "output_type": "execute_result"
    }
   ],
   "source": [
    "# Drop 'Showed Up' and 'No Show' colums\n",
    "wait_pct_final = wait_pct.drop(['Showed Up','No Show'],axis=1)\n",
    "wait_pct_final"
   ]
  },
  {
   "cell_type": "markdown",
   "metadata": {},
   "source": [
    "The columns have been dropped to allow us to focus on the percentage of patients that show up versus those that do not.\n",
    "\n",
    "I have saved the result as a new dataframe as I find the inplace function to be messy when trying to review previous cells"
   ]
  },
  {
   "cell_type": "code",
   "execution_count": 225,
   "metadata": {},
   "outputs": [
    {
     "data": {
      "image/png": "[encoded data removed]",
      "text/plain": [
       "<Figure size 1008x504 with 1 Axes>"
      ]
     },
     "metadata": {
      "needs_background": "light"
     },
     "output_type": "display_data"
    }
   ],
   "source": [
    "# Rename coumns\n",
    "wait_pct_final.rename(columns = {'no_show_%':'No Show', 'show_%':'Showed Up'}, inplace = True)\n",
    "# Plot stacked chart\n",
    "ax = wait_pct_final.plot(kind='bar', stacked=True)\n",
    "\n",
    "for bar in ax.patches:\n",
    "    height = bar.get_height()\n",
    "    width = bar.get_width()\n",
    "    x = bar.get_x()\n",
    "    y = bar.get_y()\n",
    "    label_text = height\n",
    "    label_x = x + width / 2\n",
    "    label_y = y + height / 2\n",
    "    ax.text(label_x, label_y, label_text, ha='center',  \n",
    "            va='center')\n",
    "    \n",
    "# Set Tick labels\n",
    "ax.set_xticklabels(day_range,rotation='horizontal')\n",
    "ax.set_title(\"Number of patients that show up vs pateints that don't show up\")\n",
    "ax.set_xlabel('Number of days to appointment')\n",
    "ax.set_ylabel('Number of patients')\n",
    "# Format legend\n",
    "ax.legend(title= None,loc='upper right')\n",
    "# Resize chart\n",
    "plt.rcParams[\"figure.figsize\"] = (14,7)\n",
    "\n",
    "\n",
    "# source: https://pythonguides.com/stacked-bar-chart-matplotlib/"
   ]
  },
  {
   "cell_type": "code",
   "execution_count": 226,
   "metadata": {},
   "outputs": [
    {
     "data": {
      "text/plain": [
       "Text(0.5, 1.0, 'Relationship between the number of days before an appointment & patients showing up')"
      ]
     },
     "execution_count": 226,
     "metadata": {},
     "output_type": "execute_result"
    },
    {
     "data": {
      "image/png": "[encoded data removed]",
      "text/plain": [
       "<Figure size 1008x504 with 1 Axes>"
      ]
     },
     "metadata": {
      "needs_background": "light"
     },
     "output_type": "display_data"
    }
   ],
   "source": [
    "# Scatter plot \n",
    "\n",
    "# X-axis\n",
    "x = wait_pct_final['No Show']\n",
    "# Y-axis\n",
    "y = wait_pct_final['Showed Up']\n",
    "# calculate line of best fit\n",
    "m, b = np.polyfit(x, y, 1)\n",
    "plt.plot(x, y, 'o')\n",
    "plt.plot(x, m*x + b)\n",
    "#plt.scatter(x, y)\n",
    "plt.xlabel('Number of days')\n",
    "plt.ylabel('Percentage of patiets that show up')\n",
    "plt.title('Relationship between the number of days before an appointment & patients showing up')"
   ]
  },
  {
   "cell_type": "markdown",
   "metadata": {},
   "source": [
    "#### 2. Conclusion\n",
    "\n",
    "The results above show that patients that wait less than a day between scheduling an appointment and the date of the actual of the appointment are more likely to show up, with more than 90% showing up when they schedule an appointment for the same day.\n",
    "\n",
    "Patients appear to be more likely to miss an appointment the longer they wait\n",
    "\n",
    "There appears to be a strong negative correlation between the variables\n",
    "\n",
    "However, we cannot infer that a relationship exists between the variable without taking other variables into account and performing more detailed analysis. Correlation does not equal causation."
   ]
  },
  {
   "cell_type": "markdown",
   "metadata": {},
   "source": [
    "### 3. How does the total number of ailments affect a patient's decision to miss an appointment?"
   ]
  },
  {
   "cell_type": "code",
   "execution_count": 228,
   "metadata": {},
   "outputs": [
    {
     "data": {
      "text/html": [
       "<div>\n",
       "<style scoped>\n",
       "    .dataframe tbody tr th:only-of-type {\n",
       "        vertical-align: middle;\n",
       "    }\n",
       "\n",
       "    .dataframe tbody tr th {\n",
       "        vertical-align: top;\n",
       "    }\n",
       "\n",
       "    .dataframe thead th {\n",
       "        text-align: right;\n",
       "    }\n",
       "</style>\n",
       "<table border=\"1\" class=\"dataframe\">\n",
       "  <thead>\n",
       "    <tr style=\"text-align: right;\">\n",
       "      <th></th>\n",
       "      <th>hypertension</th>\n",
       "      <th>diabetes</th>\n",
       "      <th>alcoholism</th>\n",
       "      <th>handicap</th>\n",
       "      <th>no_show</th>\n",
       "    </tr>\n",
       "  </thead>\n",
       "  <tbody>\n",
       "    <tr>\n",
       "      <th>0</th>\n",
       "      <td>1</td>\n",
       "      <td>0</td>\n",
       "      <td>0</td>\n",
       "      <td>0</td>\n",
       "      <td>No</td>\n",
       "    </tr>\n",
       "    <tr>\n",
       "      <th>1</th>\n",
       "      <td>0</td>\n",
       "      <td>0</td>\n",
       "      <td>0</td>\n",
       "      <td>0</td>\n",
       "      <td>No</td>\n",
       "    </tr>\n",
       "    <tr>\n",
       "      <th>2</th>\n",
       "      <td>0</td>\n",
       "      <td>0</td>\n",
       "      <td>0</td>\n",
       "      <td>0</td>\n",
       "      <td>No</td>\n",
       "    </tr>\n",
       "    <tr>\n",
       "      <th>3</th>\n",
       "      <td>0</td>\n",
       "      <td>0</td>\n",
       "      <td>0</td>\n",
       "      <td>0</td>\n",
       "      <td>No</td>\n",
       "    </tr>\n",
       "    <tr>\n",
       "      <th>4</th>\n",
       "      <td>1</td>\n",
       "      <td>1</td>\n",
       "      <td>0</td>\n",
       "      <td>0</td>\n",
       "      <td>No</td>\n",
       "    </tr>\n",
       "  </tbody>\n",
       "</table>\n",
       "</div>"
      ],
      "text/plain": [
       "   hypertension  diabetes  alcoholism  handicap no_show\n",
       "0             1         0           0         0      No\n",
       "1             0         0           0         0      No\n",
       "2             0         0           0         0      No\n",
       "3             0         0           0         0      No\n",
       "4             1         1           0         0      No"
      ]
     },
     "execution_count": 228,
     "metadata": {},
     "output_type": "execute_result"
    }
   ],
   "source": [
    "# Create new dataframe to deal exclusively with patient ailments\n",
    "cols = ['gender','scheduled_day', 'appointment_day','age','scholarship','sms_received','days_to_appointment', 'wait_time']\n",
    "df_ailm = df_clean.drop(cols, axis =1)\n",
    "df_ailm.head()"
   ]
  },
  {
   "cell_type": "code",
   "execution_count": 229,
   "metadata": {},
   "outputs": [],
   "source": [
    "# Make all values greater than 1 equal 1\n",
    "df_ailm['handicap'] = np.where(df['handicap'] > 1, 1, df['handicap'])\n",
    "\n",
    "# https://sparkbyexamples.com/pandas/pandas-replace-values-based-on-condition/"
   ]
  },
  {
   "cell_type": "markdown",
   "metadata": {},
   "source": [
    "The 'handicap' column has 4 unique values but I only want to test for the presence of a handicap instead of the number of handicaps a patient may have. I made all the values above 1 equal 1 so that I can have binary responses to match the other ailments.\n",
    "\n",
    "The utlimate goal is test what combination of the recorded ailments lead to more patients not showing."
   ]
  },
  {
   "cell_type": "code",
   "execution_count": 230,
   "metadata": {},
   "outputs": [
    {
     "data": {
      "text/html": [
       "<div>\n",
       "<style scoped>\n",
       "    .dataframe tbody tr th:only-of-type {\n",
       "        vertical-align: middle;\n",
       "    }\n",
       "\n",
       "    .dataframe tbody tr th {\n",
       "        vertical-align: top;\n",
       "    }\n",
       "\n",
       "    .dataframe thead th {\n",
       "        text-align: right;\n",
       "    }\n",
       "</style>\n",
       "<table border=\"1\" class=\"dataframe\">\n",
       "  <thead>\n",
       "    <tr style=\"text-align: right;\">\n",
       "      <th></th>\n",
       "      <th>hypertension</th>\n",
       "      <th>diabetes</th>\n",
       "      <th>alcoholism</th>\n",
       "      <th>handicap</th>\n",
       "      <th>no_show</th>\n",
       "    </tr>\n",
       "  </thead>\n",
       "  <tbody>\n",
       "  </tbody>\n",
       "</table>\n",
       "</div>"
      ],
      "text/plain": [
       "Empty DataFrame\n",
       "Columns: [hypertension, diabetes, alcoholism, handicap, no_show]\n",
       "Index: []"
      ]
     },
     "execution_count": 230,
     "metadata": {},
     "output_type": "execute_result"
    }
   ],
   "source": [
    "# Confirm that there are no value above 1\n",
    "df_ailm.query('handicap > 1')"
   ]
  },
  {
   "cell_type": "code",
   "execution_count": 231,
   "metadata": {},
   "outputs": [
    {
     "data": {
      "text/plain": [
       "count    110526.000000\n",
       "mean          0.319789\n",
       "std           0.625349\n",
       "min           0.000000\n",
       "25%           0.000000\n",
       "50%           0.000000\n",
       "75%           0.000000\n",
       "max           4.000000\n",
       "Name: num_ailm, dtype: float64"
      ]
     },
     "execution_count": 231,
     "metadata": {},
     "output_type": "execute_result"
    }
   ],
   "source": [
    "# Create a column adding up the number of ailments for each patient\n",
    "df_ailm['num_ailm'] = df_ailm['hypertension'] + df_ailm['diabetes'] + df_ailm['alcoholism']+ df_ailm['handicap']\n",
    "df_ailm['num_ailm'].describe()"
   ]
  },
  {
   "cell_type": "code",
   "execution_count": 232,
   "metadata": {},
   "outputs": [
    {
     "data": {
      "text/plain": [
       "num_ailm  no_show\n",
       "0         No         66511\n",
       "          Yes        17603\n",
       "1         No         14874\n",
       "          Yes         3249\n",
       "2         No          6290\n",
       "          Yes         1368\n",
       "3         No           523\n",
       "          Yes           95\n",
       "4         No             9\n",
       "          Yes            4\n",
       "Name: no_show, dtype: int64"
      ]
     },
     "execution_count": 232,
     "metadata": {},
     "output_type": "execute_result"
    }
   ],
   "source": [
    "# Group data by the number of total ailments as well whether a patient shows up\n",
    "df_ailm.groupby('num_ailm')['no_show'].value_counts()"
   ]
  },
  {
   "cell_type": "code",
   "execution_count": 233,
   "metadata": {},
   "outputs": [
    {
     "data": {
      "image/png": "[encoded data removed]",
      "text/plain": [
       "<Figure size 1008x504 with 1 Axes>"
      ]
     },
     "metadata": {
      "needs_background": "light"
     },
     "output_type": "display_data"
    }
   ],
   "source": [
    "# Plot the number of patients that show up vs patients that don't show up by number of ailments\n",
    "\n",
    "df_ailm.groupby(['num_ailm','no_show']).size().unstack().plot(kind ='bar', stacked = True, width = 0.65)\n",
    "\n",
    "plt.xticks(rotation = 0)\n",
    "plt.title(\"Number of patients that show up vs patients that don't show up by number of ailments\")\n",
    "plt.xlabel('Number of ailments')\n",
    "plt.ylabel('Number of patients')\n",
    "# Format legend\n",
    "plt.legend(title = 'No Show',loc='upper right')\n",
    "# Resize chart\n",
    "plt.rcParams[\"figure.figsize\"] = (14,7)\n",
    "\n",
    "# source: https://pythonguides.com/stacked-bar-chart-matplotlib/"
   ]
  },
  {
   "cell_type": "code",
   "execution_count": 234,
   "metadata": {},
   "outputs": [
    {
     "data": {
      "image/png": "[encoded data removed]",
      "text/plain": [
       "<Figure size 1008x504 with 1 Axes>"
      ]
     },
     "metadata": {},
     "output_type": "display_data"
    }
   ],
   "source": [
    "# Plot the proportion of patients that have a certain number of ailments\n",
    "label = ['None', '1 Ailment', '2 Ailments', '3 Ailments', '4 Ailments']\n",
    "ax = df_ailm.groupby('num_ailm')['num_ailm'].value_counts()\n",
    "ax.plot(kind = 'pie', labels = label, autopct='%1.1f%%', explode = ax.value_counts()*0.05)\n",
    "plt.title('Patients that made appointments: By number of ailments')\n",
    "plt.ylabel('')\n",
    "plt.rcParams[\"figure.figsize\"] = (14,7) \n",
    "\n",
    "# Source: https://www.pythoncharts.com/matplotlib/pie-chart-matplotlib/"
   ]
  },
  {
   "cell_type": "markdown",
   "metadata": {},
   "source": [
    "76.1% of patients have no ailments\n",
    "\n",
    "16.4% of patients have at least one ailment\n",
    "\n",
    "6.9% of patients have two ailments\n",
    "\n",
    "Less than 1% of patients have three or more ailments"
   ]
  },
  {
   "cell_type": "code",
   "execution_count": 235,
   "metadata": {},
   "outputs": [
    {
     "data": {
      "text/plain": [
       "num_ailm\n",
       "0    66511\n",
       "1    14874\n",
       "2     6290\n",
       "3      523\n",
       "4        9\n",
       "Name: num_ailm, dtype: int64"
      ]
     },
     "execution_count": 235,
     "metadata": {},
     "output_type": "execute_result"
    }
   ],
   "source": [
    "# Number of patients that show up grouped by the number of their ailments\n",
    "df_ailm_no = df_ailm.query('no_show == \"No\"').groupby('num_ailm')['num_ailm'].count()\n",
    "df_ailm_no"
   ]
  },
  {
   "cell_type": "code",
   "execution_count": 236,
   "metadata": {},
   "outputs": [
    {
     "data": {
      "image/png": "[encoded data removed]",
      "text/plain": [
       "<Figure size 1008x504 with 1 Axes>"
      ]
     },
     "metadata": {},
     "output_type": "display_data"
    }
   ],
   "source": [
    "# Plot the proportion of patients that have a certain number of ailments and showed up\n",
    "label = ['None', '1 Ailment', '2 Ailments', '3 Ailments', '4 Ailments']\n",
    "df_ailm_no.plot(kind = 'pie', labels = label, autopct='%1.1f%%', explode = df_ailm_no.value_counts()*0.05)\n",
    "plt.title('Patients with a certain number of ailments that showed up')\n",
    "plt.ylabel('')\n",
    "plt.rcParams[\"figure.figsize\"] = (14,7) \n",
    "\n",
    "# Source: https://www.pythoncharts.com/matplotlib/pie-chart-matplotlib/"
   ]
  },
  {
   "cell_type": "markdown",
   "metadata": {},
   "source": [
    "The distribution of patients that showed up catergorised by ailment is very close to the distribution of the total number of patients that make appointments."
   ]
  },
  {
   "cell_type": "code",
   "execution_count": 237,
   "metadata": {},
   "outputs": [
    {
     "data": {
      "text/plain": [
       "num_ailm\n",
       "0    17603\n",
       "1     3249\n",
       "2     1368\n",
       "3       95\n",
       "4        4\n",
       "Name: num_ailm, dtype: int64"
      ]
     },
     "execution_count": 237,
     "metadata": {},
     "output_type": "execute_result"
    }
   ],
   "source": [
    "# Number of patients that show up grouped by the number of their ailments\n",
    "df_ailm_yes = df_ailm.query('no_show == \"Yes\"').groupby(['num_ailm'])['num_ailm'].count()\n",
    "df_ailm_yes"
   ]
  },
  {
   "cell_type": "code",
   "execution_count": 238,
   "metadata": {},
   "outputs": [
    {
     "data": {
      "image/png": "[encoded data removed]",
      "text/plain": [
       "<Figure size 1008x504 with 1 Axes>"
      ]
     },
     "metadata": {},
     "output_type": "display_data"
    }
   ],
   "source": [
    "# Plot the proportion of patients that have a certain number of ailments and didn't show up\n",
    "df_ailm_yes.plot(kind = 'pie', labels = label, autopct='%1.1f%%', explode = df_ailm_no.value_counts()*0.05)\n",
    "plt.title('Patients with a certain number of ailments that did not show up')\n",
    "plt.ylabel('')\n",
    "plt.rcParams[\"figure.figsize\"] = (14,7)\n",
    "\n",
    "# Source: https://www.pythoncharts.com/matplotlib/pie-chart-matplotlib/"
   ]
  },
  {
   "cell_type": "markdown",
   "metadata": {},
   "source": [
    "It appears that the number of patients with no ailments that do not show up make up is slighlty higher proportion of the total patients that do not show up compared to the previous results.\n",
    "\n",
    "It could be that patients with ailments are less likely to miss their appointments because they need the care."
   ]
  },
  {
   "cell_type": "code",
   "execution_count": 239,
   "metadata": {},
   "outputs": [
    {
     "data": {
      "image/png": "[encoded data removed]",
      "text/plain": [
       "<Figure size 1008x504 with 1 Axes>"
      ]
     },
     "metadata": {
      "needs_background": "light"
     },
     "output_type": "display_data"
    }
   ],
   "source": [
    "# Plot proportion of patients with ailments that don't show up\n",
    "\n",
    "result = df_ailm_yes / (df_ailm_yes + df_ailm_no) * 100\n",
    "result.plot(kind ='bar')\n",
    "plt.xticks(rotation = 0)\n",
    "plt.title(\"Number of patients that show up vs patients that don't show up by number of ailments\")\n",
    "plt.xlabel('Number of ailments')\n",
    "plt.ylabel('Number of patients')\n",
    "# Resize chart\n",
    "plt.rcParams[\"figure.figsize\"] = (14,7)"
   ]
  },
  {
   "cell_type": "markdown",
   "metadata": {},
   "source": [
    "#### 3. Conclusion\n",
    "\n",
    "This section computed the proportion of patients the miss theri appointments based on the number of ailments they have. This should provide a better representation of whether the number of ailments does impact no shows\n",
    "\n",
    "Patients with no ailments seem to be more likely to miss appointments than patients with 1, 2 or 3 ailments. This makes sense as you would expect healthier patients to require less medical attention\n",
    "\n",
    "Surpringly, it seems like patients with 4 ailments are more likely to miss the appointments, with around 30% of patients that meet that criteria not showing up. It is possible that the patients' physical limitations could be impacting their ability to go to their appointments. However, there are only 13 patients in the entire dataset that match this criteria, which would make this result statistically insignificant as the sample size is far too small."
   ]
  },
  {
   "cell_type": "markdown",
   "metadata": {},
   "source": [
    "<a id='conclusions'></a>\n",
    "## Conclusions"
   ]
  },
  {
   "cell_type": "markdown",
   "metadata": {},
   "source": [
    "The aim of this report was try to determine whether certain factors influenced whether a patient showed up for a medical appointment or not.   \n",
    "\n",
    "We limited our research to anwering the following questions:\n",
    "\n",
    "        1. Which gender is more likely to miss an appointment?\n",
    "\n",
    "        2. Does the number of days from when a patient schedules an appointment to the actual appointmnet date affect whether s/he shows up?\n",
    "        \n",
    "        3. How does the total number of ailments affect a patients decision to miss an appointment\n",
    "\n",
    "In determing the affect of a patient's gender, we find that approximately 20% of patients do not show up for their scheduled payments.\n",
    "\n",
    "Females account for 65% of all patients but show up to appointments at a similar rate to male patients - 20.31% of females miss appointments, while 19.97% of males miss their appointments. \n",
    "\n",
    "The figures are similar to the total number of patients that miss appointments in the dataset, so there does not appear to be a relationship between a patient’s gender and whether they show up for an appointment.\n",
    "\n",
    "The number of days between the date an appointment is scheduled and the actual appointment provided more promising insights. We found that a significant number of appointments are scheduled on the same day, with the data heavily skewed to the right. The number of days to an appointment ranged from 0 to 178 days, with 75% of all of appointments taking place within 14 days.Almost half of all appointments take place on the same day that they are scheduled and the average wait time is 9.53 days, with only 8.78% of appointments taking place after 30 days of being scheduled.\n",
    "\n",
    "Patients that schedule their appointments for the same day seem to be likely to show up, with 91% showing up.Patients seem to be more likely to miss an appointment the longer they wait, with rate of patients showing up dropping to 77% when the wait is between 1 and 3 days. This further falls to 71% between 3 and 10 days and drops to 67% after 10 days.\n",
    "\n",
    "There appears to be a strong negative correlation between the variable, however correlation does not equal causation so further analysis will be required to determine if a relationship does in fact exist.\n",
    "\n",
    "We also found that patients with no ailments seem to be more likely to miss appointments than patients with 1, 2 or 3 ailments. This makes sense as you would expect healthier patients to require less medical attention.\n",
    "\n",
    "Patients with 4 ailments seem to be more likely to miss appointments, with around 30% of patients that meet that criteria not showing up. It is possible that the patients' physical limitations could be impacting their ability to go to their appointments. However, there are only 13 observations in the entire dataset that match this criteria, which would make this result statistically insignificant with the sample size far too small to be conclusive.\n",
    "\n",
    "#### Limitations\n",
    "The dataset is very outdated so it may not account for behavioural changes.\n",
    "\n",
    "Only a limited number of variables were tested. We should aim to test all available factors to see if they have any influence.\n",
    "\n",
    "The variables were only studied in isolation and ignored the fact that there may be a combination of factors that could provide more accurate predictions.\n",
    "\n",
    "The research only made use of descriptive statistics to describe the relationships. We would need to employ inferential statistics or machine learning models to make any sort of accurate predication. \n",
    "\n",
    "The appointment dates spanned less than two months, which is not enough data to make conclusive predications. This also does not allow us to account for seasonal differences.\n"
   ]
  }
 ],
 "metadata": {
  "kernelspec": {
   "display_name": "Python 3 (ipykernel)",
   "language": "python",
   "name": "python3"
  },
  "language_info": {
   "codemirror_mode": {
    "name": "ipython",
    "version": 3
   },
   "file_extension": ".py",
   "mimetype": "text/x-python",
   "name": "python",
   "nbconvert_exporter": "python",
   "pygments_lexer": "ipython3",
   "version": "3.9.12"
  },
  "vscode": {
   "interpreter": {
    "hash": "80ec5a057d9ea64ae25604aff408b44bc6d6e9e11676971c3716256fc2ef62ab"
   }
  }
 },
 "nbformat": 4,
 "nbformat_minor": 2
}
